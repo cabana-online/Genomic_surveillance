{
 "cells": [
  {
   "cell_type": "markdown",
   "metadata": {},
   "source": [
    "# Module 9: MLST (Multilocus sequence typing)\n",
    "\n",
    "## Descripción general\n",
    "\n",
    "Multilocus sequence typing (MLST) characterises isolates of bacterial species using the sequences of internal fragments of (usually) seven house-keeping genes. Approximately 450-500 bp internal fragments of each gene are used, as these can be accurately sequenced on both strands using an automated DNA sequencer. For each house-keeping gene, the different sequences present within a bacterial species are assigned as distinct alleles and, for each isolate, the alleles at each of the seven loci define the allelic profile or sequence type (ST). Each isolate of a species is therefore unambiguously characterised by a series of seven integers which correspond to the alleles at the seven house-keeping loci.\n",
    "\n",
    "MLST can be performed using SRST2 or MLST. We will learn both tools in this module. "
   ]
  },
  {
   "cell_type": "markdown",
   "metadata": {},
   "source": [
    "### Install condacolab"
   ]
  },
  {
   "cell_type": "code",
   "execution_count": null,
   "metadata": {},
   "outputs": [],
   "source": [
    "!pip install -q condacolab\n",
    "import condacolab\n",
    "condacolab.install()"
   ]
  },
  {
   "cell_type": "markdown",
   "metadata": {},
   "source": [
    "### Install software"
   ]
  },
  {
   "cell_type": "markdown",
   "metadata": {},
   "source": [
    "> **Note**: In this module, we will use srst2 for the prediction of serotypes. However, this tool does not work properly with Python3. Therefore, we will install Python2 and run the tool using the python=2.7 version with the commands `!conda run -n py2_env`."
   ]
  },
  {
   "cell_type": "code",
   "execution_count": null,
   "metadata": {},
   "outputs": [],
   "source": [
    "# Create a new Python 2.7 environment with the name py2_env\n",
    "!conda create -n py2_env python=2.7\n",
    "#!apt-get install python2\n",
    "!conda run -n py2_env python --version"
   ]
  },
  {
   "cell_type": "code",
   "execution_count": null,
   "metadata": {},
   "outputs": [],
   "source": [
    "# Install srst2\n",
    "!conda run -n py2_env conda install -c bioconda srst2 --yes"
   ]
  },
  {
   "cell_type": "code",
   "execution_count": null,
   "metadata": {},
   "outputs": [],
   "source": [
    "# Check if srst2 is installed\n",
    "!conda run -n py2_env srst2 --help"
   ]
  },
  {
   "cell_type": "code",
   "execution_count": null,
   "metadata": {},
   "outputs": [],
   "source": [
    "# Install mlst\n",
    "!conda install -c conda-forge -c bioconda -c defaults mlst"
   ]
  },
  {
   "cell_type": "code",
   "execution_count": null,
   "metadata": {},
   "outputs": [],
   "source": [
    "# Install any2fasta\n",
    "!conda install -c bioconda any2fasta"
   ]
  },
  {
   "cell_type": "code",
   "execution_count": null,
   "metadata": {},
   "outputs": [],
   "source": [
    "# Install blast\n",
    "!conda install bioconda::blast"
   ]
  },
  {
   "cell_type": "markdown",
   "metadata": {},
   "source": [
    "### Download data"
   ]
  },
  {
   "cell_type": "code",
   "execution_count": null,
   "metadata": {},
   "outputs": [],
   "source": [
    "!wget https://zenodo.org/records/13750987/files/Module_9.tar.gz"
   ]
  },
  {
   "cell_type": "markdown",
   "metadata": {},
   "source": [
    "## Part 1: Multilocus sequence typing using SRST2\n",
    "\n",
    "[SRST2](https://github.com/katholt/srst2 ) (Short Read Sequence Typing for Bacterial Pathogens) program is designed to take Illumina sequence data, a MLST database and/or a database of gene sequences (e.g. resistance genes, virulence genes, etc) and report the presence of STs and/or reference genes. This program performs fast and accurate detection of genes and alleles direct from WGS short sequencing reads. SRST2 can type reads using any sequence database(s) and can calculate combinatorial sequence types defined in MLST-style databases\n",
    "\n",
    "*Further reading*: https://genomemedicine.biomedcentral.com/articles/10.1186/s13073-014-0090-6\n",
    "\n",
    "SRST2 requires: \n",
    "\n",
    "\n",
    "1. Sequence reads\n",
    "\n",
    "We will analyze the paired FASTQ files ERR1795461_1.fastq.gz and ERR1795461_2.fastq.gz, which correspond to the run accession ERR1795461 from the project [PRJEB3084](https://www.ebi.ac.uk/ena/browser/view/PRJEB3084).\n",
    "\n",
    "Some important data about the sample:\n",
    "\n",
    "- Country of origin: Brasil\n",
    "- Organism: *Streptococcus pneumoniae*\n",
    "- Instrument Platform: ILLUMINA\n",
    "- Instrument Model: Illumina MiSeq\n",
    "- Read Count: 3627822\n",
    "- Base Count: 453477750\n",
    "- Center Name: Wellcome Sanger Institute; SC\n",
    "- Library Layaout: PAIRED\n",
    "- Library strategy: WGS \n",
    "\n",
    "2. Fasta sequence database to match to. For MLST, this means a fasta file of all allele sequences. If you want to assign STs, you also need a tab-delim file which defines the ST profiles as a combination of alleles."
   ]
  },
  {
   "cell_type": "markdown",
   "metadata": {},
   "source": [
    "### Download the fasta sequence database and a tab-delim file from [PubMLST](https://pubmlst.org/organisms/streptococcus-agalactiae/) using the command: "
   ]
  },
  {
   "cell_type": "code",
   "execution_count": null,
   "metadata": {},
   "outputs": [],
   "source": [
    "# Download the mlst database\n",
    "!conda run -n py2_env getmlst.py --species 'Streptococcus pneumoniae'"
   ]
  },
  {
   "cell_type": "markdown",
   "metadata": {},
   "source": [
    "Explore the content of your working directory us (ls) command. You should have the following files:\n",
    "\n",
    "- alleles_fasta,\n",
    "- mlst_data_download_Streptococcus_pneumoniae_None.log,\n",
    "- profiles_csv\n",
    "- Streptococcus_pneumoniae.fasta"
   ]
  },
  {
   "cell_type": "markdown",
   "metadata": {},
   "source": [
    "### Execute SRST2 on a single strain:"
   ]
  },
  {
   "cell_type": "code",
   "execution_count": null,
   "metadata": {},
   "outputs": [],
   "source": [
    "# Run srst2\n",
    "!conda run -n py2_env srst2 --input_pe ERR1795461_1.fastq.gz ERR1795461_2.fastq.gz --output ERR1795461_output --log --mlst_db Streptococcus_pneumoniae.fasta --mlst_definitions profiles_csv --mlst_delimiter _"
   ]
  },
  {
   "cell_type": "markdown",
   "metadata": {},
   "source": [
    "An explanation of this command is as follows:\n",
    "\n",
    "`srst2` is the tool\n",
    "\n",
    "`--input_pe` specifies the input file are paired end reads which are ERR1795461_1.fastq.gz and ERR1795461_2.fastq.gz\n",
    "\n",
    "`--output` specifies the output file ERR1795461_output\n",
    "\n",
    "`--mlst_db` specifies the database Streptococcus_pneumoniae.fasta\n",
    "\n",
    "`--mlst_definitions` specifies profiles_csv\n",
    "\n",
    "`--mlst_delimiter` Character(s) separating gene name from allele number in MLST database (default \"-\", as in arcc-1)"
   ]
  },
  {
   "cell_type": "markdown",
   "metadata": {},
   "source": [
    "### Check the results"
   ]
  },
  {
   "cell_type": "markdown",
   "metadata": {},
   "source": [
    "Move to the `results` folder"
   ]
  },
  {
   "cell_type": "code",
   "execution_count": null,
   "metadata": {},
   "outputs": [],
   "source": [
    "%cd /content/Module_9/srst2/results/"
   ]
  },
  {
   "cell_type": "markdown",
   "metadata": {},
   "source": [
    "Run the command  `ls -lh`  to check the contents in the folder. "
   ]
  },
  {
   "cell_type": "code",
   "execution_count": null,
   "metadata": {},
   "outputs": [],
   "source": [
    "# Show the output\n",
    "!ls -lh"
   ]
  },
  {
   "cell_type": "markdown",
   "metadata": {},
   "source": [
    "The output file from the MLST run is `ERR1795461__mlst__Streptococcus_pneumoniae__results.txt`. \n",
    "\n",
    "So, `cat ERR1795461__mlst__Streptococcus_pneumoniae__results.txt` to view the contents of this file "
   ]
  },
  {
   "cell_type": "markdown",
   "metadata": {},
   "source": [
    "### To execute SRST2 on multiple strains, run the command:\n",
    "\n",
    ">**Note**: In this module, we will not run the multiple analysis due to the lack of resources in Colab. However, here is an example of how to do it."
   ]
  },
  {
   "cell_type": "code",
   "execution_count": null,
   "metadata": {},
   "outputs": [],
   "source": [
    "# Do not execute\n",
    "# Run srst2 with multiple fastq files\n",
    "# !conda run -n py2_env srst2 --input_pe *.fastq.gz --output s.pneumo --log --mlst_db Streptococcus_pneumoniae.fasta --mlst_definitions profiles_csv --mlst_delimiter _"
   ]
  },
  {
   "cell_type": "markdown",
   "metadata": {},
   "source": [
    "`--input_pe *.fastq.gz`: specifies the input file are multiple compressed fastq.gz files. "
   ]
  },
  {
   "cell_type": "markdown",
   "metadata": {},
   "source": [
    "___"
   ]
  },
  {
   "cell_type": "markdown",
   "metadata": {},
   "source": [
    "## Part 2: Multilocus sequence typing using SRST2\n",
    "\n",
    "[mlst](https://github.com/tseemann/mlst) scans contig files against traditional PubMLST typing schemes"
   ]
  },
  {
   "cell_type": "markdown",
   "metadata": {},
   "source": [
    "### To execute mlst on a single strain, we will use the command:"
   ]
  },
  {
   "cell_type": "code",
   "execution_count": null,
   "metadata": {},
   "outputs": [],
   "source": [
    "# Run mlst\n",
    "!mlst --legacy --scheme spneumoniae /spades_assembly/contigs.fasta"
   ]
  },
  {
   "cell_type": "markdown",
   "metadata": {},
   "source": [
    "An explanation of this command is as follows:\n",
    "\n",
    "`mlst` is the tool\n",
    "\n",
    "`--legacy` use old legacy output with allele header row (requires --scheme)\n",
    "\n",
    "`--scheme spneumoniae` specifies the species (pubmlst scheme).\n",
    "\n",
    "`contigs.fasta` input file"
   ]
  },
  {
   "cell_type": "markdown",
   "metadata": {},
   "source": [
    "### Execute mlst on a multiple strains, we will use the command: \n",
    "\n",
    ">**Note**: In this module, we will not run the multiple analysis due to the lack of resources in Colab. However, here is an example of how to do it."
   ]
  },
  {
   "cell_type": "code",
   "execution_count": null,
   "metadata": {},
   "outputs": [],
   "source": [
    "# Do not execute\n",
    "# Run mlst for all fasta files\n",
    "#!mlst --legacy --scheme spneumoniae *.fasta > mlst.csv\n"
   ]
  },
  {
   "cell_type": "markdown",
   "metadata": {},
   "source": [
    "An explanation of this command is as follows:\n",
    "\n",
    "`mlst` is the tool\n",
    "\n",
    "`--legacy` use old legacy output with allele header row (requires --scheme)\n",
    "\n",
    "`--scheme spneumoniae` specifies the species (pubmlst scheme).\n",
    "\n",
    "`*.fasta` input files\n",
    "\n",
    "`>mlst.csv` specifies output file"
   ]
  },
  {
   "cell_type": "markdown",
   "metadata": {},
   "source": [
    "## BONUS!\n",
    "\n",
    "If you are working with BASH in your computer or in a HPC and you have too many files you can optimize commands, loops are very useful for large datasets.\n",
    "\n",
    "Here's a way to do it. \n",
    "\n",
    "Create a new bash script using nano named  `srst2.sh`"
   ]
  },
  {
   "cell_type": "code",
   "execution_count": null,
   "metadata": {},
   "outputs": [],
   "source": [
    "#!/bin/bash\n",
    "\n",
    "for i in $(ls *_1.trimmed.fastq.gz); do\n",
    "NAME=$(basename $i _1.trimmed.fastq.gz)\n",
    "echo \"$NAME\"\n",
    "j=\"${NAME}_1.trimmed.fastq.gz\"\n",
    "echo \"$j\"\n",
    "k=\"${NAME}_2.trimmed.fastq.gz\"\n",
    "echo \"$k\"\n",
    "srst2 --input_pe $j $k --output srst2output --log --mlst_db Streptococcus_pneumoniae.fasta --mlst_defin>\n",
    "done"
   ]
  },
  {
   "cell_type": "markdown",
   "metadata": {},
   "source": [
    "Create a new bash script using nano named `mlst.sh`"
   ]
  },
  {
   "cell_type": "code",
   "execution_count": null,
   "metadata": {},
   "outputs": [],
   "source": [
    "##  s.pneumonae\n",
    "mlst --legacy --scheme spneumoniae *contigs.fasta > mlst_results.csv\n",
    "\n",
    "##  s.agalactiae\n",
    "mlst --legacy --scheme sagalactiae *contigs.fasta > mlst_results.csv"
   ]
  },
  {
   "cell_type": "markdown",
   "metadata": {},
   "source": [
    "*Adapted from:*\n",
    "\n",
    "- Advanced Bioinformatics Course developed for the GPS and JUNO projects - Wellcome Sanger Insitute\n",
    "\n",
    "*Modified by Luisa Sacristán (Universidad de los Andes-CABANA)*"
   ]
  }
 ],
 "metadata": {
  "language_info": {
   "name": "python"
  }
 },
 "nbformat": 4,
 "nbformat_minor": 2
}
