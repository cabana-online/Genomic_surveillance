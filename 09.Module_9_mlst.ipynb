{
 "cells": [
  {
   "cell_type": "markdown",
   "metadata": {},
   "source": [
    "# Module 7: MLST (Multilocus sequence typing)\n",
    "\n",
    "## Descripción general\n",
    "\n",
    "Multilocus sequence typing (MLST) characterises isolates of bacterial species using the sequences of internal fragments of (usually) seven house-keeping genes. Approximately 450-500 bp internal fragments of each gene are used, as these can be accurately sequenced on both strands using an automated DNA sequencer. For each house-keeping gene, the different sequences present within a bacterial species are assigned as distinct alleles and, for each isolate, the alleles at each of the seven loci define the allelic profile or sequence type (ST). Each isolate of a species is therefore unambiguously characterised by a series of seven integers which correspond to the alleles at the seven house-keeping loci.\n",
    "\n",
    "MLST can be performed using SRST2 or MLST. We will learn both tools in this module. "
   ]
  },
  {
   "cell_type": "markdown",
   "metadata": {},
   "source": [
    "### Install condacolab"
   ]
  },
  {
   "cell_type": "code",
   "execution_count": null,
   "metadata": {},
   "outputs": [],
   "source": [
    "!pip install -q condacolab\n",
    "import condacolab\n",
    "condacolab.install()"
   ]
  },
  {
   "cell_type": "markdown",
   "metadata": {},
   "source": [
    "### Install software"
   ]
  },
  {
   "cell_type": "code",
   "execution_count": null,
   "metadata": {},
   "outputs": [],
   "source": [
    "# Install mlst\n",
    "!conda install -c conda-forge -c bioconda -c defaults mlst"
   ]
  },
  {
   "cell_type": "code",
   "execution_count": null,
   "metadata": {},
   "outputs": [],
   "source": [
    "# Install srst2\n",
    "!conda install bioconda::srst2"
   ]
  },
  {
   "cell_type": "code",
   "execution_count": null,
   "metadata": {},
   "outputs": [],
   "source": [
    "# Install any2fasta\n",
    "!conda install -c bioconda any2fasta"
   ]
  },
  {
   "cell_type": "code",
   "execution_count": null,
   "metadata": {},
   "outputs": [],
   "source": [
    "# Install blast\n",
    "!conda install bioconda::blast"
   ]
  },
  {
   "cell_type": "markdown",
   "metadata": {},
   "source": [
    "### Download data"
   ]
  },
  {
   "cell_type": "code",
   "execution_count": null,
   "metadata": {},
   "outputs": [],
   "source": [
    "!wget"
   ]
  },
  {
   "cell_type": "markdown",
   "metadata": {},
   "source": [
    "## Part 1: Multilocus sequence typing using SRST2\n",
    "\n",
    "[SRST2](https://github.com/katholt/srst2 ) (Short Read Sequence Typing for Bacterial Pathogens) program is designed to take Illumina sequence data, a MLST database and/or a database of gene sequences (e.g. resistance genes, virulence genes, etc) and report the presence of STs and/or reference genes. This program performs fast and accurate detection of genes and alleles direct from WGS short sequencing reads. SRST2 can type reads using any sequence database(s) and can calculate combinatorial sequence types defined in MLST-style databases\n",
    "\n",
    "*Further reading*: https://genomemedicine.biomedcentral.com/articles/10.1186/s13073-014-0090-6\n",
    "\n",
    "SRST2 requires: \n",
    "\n",
    "\n",
    "1. Sequence reads (uses paired reads: 17150_4#79_1.fastq.gz & 17150_4#79_2.fastq.gz)\n",
    "2. Fasta sequence database to match to. For MLST, this means a fasta file of all allele sequences. If you want to assign STs, you also need a tab-delim file which defines the ST profiles as a combination of alleles. You can retrieve these files automatically from pubmlst.org/data/ using the script provided:\n"
   ]
  },
  {
   "cell_type": "markdown",
   "metadata": {},
   "source": [
    "### Step 1: Download the fasta sequence database and a tab-delim file from pubmlst.org/data/ using the command: "
   ]
  },
  {
   "cell_type": "code",
   "execution_count": null,
   "metadata": {},
   "outputs": [],
   "source": [
    "# Download the mlst database\n",
    "!getmlst.py --species \"Streptococcus pneumoniae\""
   ]
  },
  {
   "cell_type": "markdown",
   "metadata": {},
   "source": [
    "> NOTE: scripts for SRST2 requires an older version of samtools and Bowtie so you will need to have installed **samtools-0.1.18** and **bowtie2-2.1.0**"
   ]
  },
  {
   "cell_type": "markdown",
   "metadata": {},
   "source": [
    "Explore the content of your working directory us (ls) command. You should have the following files:\n",
    "\n",
    "- alleles_fasta,\n",
    "- mlst_data_download_Streptococcus_pneumoniae_None.log,\n",
    "- profiles_csv\n",
    "- Streptococcus_pneumoniae.fasta"
   ]
  },
  {
   "cell_type": "markdown",
   "metadata": {},
   "source": [
    "### Step 2:  To execute SRST2 on a single strain (17150_4#79), we will use the command: "
   ]
  },
  {
   "cell_type": "code",
   "execution_count": null,
   "metadata": {},
   "outputs": [],
   "source": [
    "# Run srst2\n",
    "!srst2 --input_pe 17150_4#79_1.fastq.gz 17150_4#79_2.fastq.gz --output 17150_4#79_test --log --mlst_db Streptococcus_pneumoniae.fasta --mlst_definitions profiles_csv --mlst_delimiter _"
   ]
  },
  {
   "cell_type": "markdown",
   "metadata": {},
   "source": [
    "An explanation of this command is as follows:\n",
    "\n",
    "`srst2` is the tool\n",
    "\n",
    "`--input_pe` specifies the input file are paired end reads which are 17150_4#79_1.fastq.gz 17150_4#79_2.fastq.gz\n",
    "\n",
    "`--output` specifies the output file 17150_4#79_test\n",
    "\n",
    "`--mlst_db` specifies the database Streptococcus_pneumoniae.fasta\n",
    "\n",
    "`--mlst_definitions` specifies profiles_csv\n",
    "\n",
    "`--mlst_delimiter` Character(s) separating gene name from allele number in MLST database (default \"-\", as in arcc-1)"
   ]
  },
  {
   "cell_type": "markdown",
   "metadata": {},
   "source": [
    "Run the command  `ls -lh`  to check the contents in the folder. "
   ]
  },
  {
   "cell_type": "code",
   "execution_count": null,
   "metadata": {},
   "outputs": [],
   "source": [
    "# Show the output\n",
    "!ls -lh"
   ]
  },
  {
   "cell_type": "markdown",
   "metadata": {},
   "source": [
    "You will get this output\n",
    "\n",
    "The output file from the MLST run is “17150_4#79_test__mlst__Streptococcus_pneumoniae__results.txt”. \n",
    "\n",
    "So, `cat` \"17150_4#79_test__mlst__Streptococcus_pneumoniae__results.txt\" to view the contents of this file "
   ]
  },
  {
   "cell_type": "markdown",
   "metadata": {},
   "source": [
    "Sample 17150_4#79 is MLST 30 "
   ]
  },
  {
   "cell_type": "markdown",
   "metadata": {},
   "source": [
    "### Step 3: To execute SRST2 on multiple strains, run the command:"
   ]
  },
  {
   "cell_type": "markdown",
   "metadata": {},
   "source": [
    "`--input_pe *.fastq.gz`: specifies the input file are multiple compressed fastq.gz files. "
   ]
  },
  {
   "cell_type": "code",
   "execution_count": null,
   "metadata": {},
   "outputs": [],
   "source": [
    "# Run srst2 with all fastq files\n",
    "srst2 --input_pe *.fastq.gz --output s.pneumo --log --mlst_db Streptococcus_pneumoniae.fasta --mlst_definitions profiles_csv --mlst_delimiter _"
   ]
  },
  {
   "cell_type": "markdown",
   "metadata": {},
   "source": [
    "___"
   ]
  },
  {
   "cell_type": "markdown",
   "metadata": {},
   "source": [
    "## Part 2: Multilocus sequence typing using SRST2\n",
    "\n",
    "[mlst](https://github.com/tseemann/mlst) scans contig files against traditional PubMLST typing schemes"
   ]
  },
  {
   "cell_type": "markdown",
   "metadata": {},
   "source": [
    "### Step 1: To execute mlst on a single strain (21127_1#30), we will use the command:"
   ]
  },
  {
   "cell_type": "code",
   "execution_count": null,
   "metadata": {},
   "outputs": [],
   "source": [
    "# Run mlst\n",
    "!mlst --legacy --scheme spneumoniae 21127_1#30_output_contigs.fasta"
   ]
  },
  {
   "cell_type": "markdown",
   "metadata": {},
   "source": [
    "An explanation of this command is as follows:\n",
    "\n",
    "`mlst` is the tool\n",
    "\n",
    "`--legacy` use old legacy output with allele header row (requires --scheme)\n",
    "\n",
    "`--scheme spneumoniae` specifies the species (pubmlst scheme). You can identify the scheme using the command \"docker_run staphb/mlst mlst --longlist\"\n",
    "\n",
    "`21127_1#30_output_contigs.fasta` input file"
   ]
  },
  {
   "cell_type": "markdown",
   "metadata": {},
   "source": [
    "You will get the this output printed in terminal "
   ]
  },
  {
   "cell_type": "markdown",
   "metadata": {},
   "source": [
    "### Step 2: To execute mlst on a multiple strains, we will use the command: \n",
    "\n"
   ]
  },
  {
   "cell_type": "code",
   "execution_count": null,
   "metadata": {},
   "outputs": [],
   "source": [
    "# Run mlst for all fasta files\n",
    "mlst --legacy --scheme spneumoniae *.fasta > mlst.csv\n"
   ]
  },
  {
   "cell_type": "markdown",
   "metadata": {},
   "source": [
    "An explanation of this command is as follows:\n",
    "\n",
    "`mlst` is the tool\n",
    "\n",
    "`--legacy` use old legacy output with allele header row (requires --scheme)\n",
    "\n",
    "`--scheme spneumoniae` specifies the species (pubmlst scheme). You can identify the scheme using the command \"docker_run staphb/mlst mlst --longlist\"\n",
    "\n",
    "`*.fasta` input files\n",
    "\n",
    "`>mlst.csv` specifies output file"
   ]
  },
  {
   "cell_type": "markdown",
   "metadata": {},
   "source": [
    "## BONUS!\n",
    "\n",
    "If you are working with BASH in your computer or in a HPC and you have too many files you can optimize commands, loops are very useful for large datasets.\n",
    "\n",
    "Here's a way to do it. \n",
    "\n",
    "Create a new bash script using nano named  `srst2.sh`"
   ]
  },
  {
   "cell_type": "code",
   "execution_count": null,
   "metadata": {},
   "outputs": [],
   "source": [
    "#!/bin/bash\n",
    "\n",
    "for i in $(ls *_1.trimmed.fastq.gz); do\n",
    "NAME=$(basename $i _1.trimmed.fastq.gz)\n",
    "echo \"$NAME\"\n",
    "j=\"${NAME}_1.trimmed.fastq.gz\"\n",
    "echo \"$j\"\n",
    "k=\"${NAME}_2.trimmed.fastq.gz\"\n",
    "echo \"$k\"\n",
    "srst2 --input_pe $j $k --output srst2output --log --mlst_db Streptococcus_pneumoniae.fasta --mlst_defin>\n",
    "done"
   ]
  },
  {
   "cell_type": "markdown",
   "metadata": {},
   "source": [
    "Create a new bash script using nano named `mlst.sh`"
   ]
  },
  {
   "cell_type": "code",
   "execution_count": null,
   "metadata": {},
   "outputs": [],
   "source": [
    "##  s.pneumonae\n",
    "mlst --legacy --scheme spneumoniae *contigs.fasta > mlst_results.csv\n",
    "\n",
    "##  s.agalactiae\n",
    "mlst --legacy --scheme sagalactiae *contigs.fasta > mlst_results.csv"
   ]
  }
 ],
 "metadata": {
  "language_info": {
   "name": "python"
  }
 },
 "nbformat": 4,
 "nbformat_minor": 2
}
