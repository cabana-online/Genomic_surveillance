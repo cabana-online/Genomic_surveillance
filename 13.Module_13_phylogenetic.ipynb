{
 "cells": [
  {
   "cell_type": "markdown",
   "metadata": {},
   "source": [
    "# Module 11: Phylogenetics\n",
    "\n",
    "## Overview\n",
    "\n",
    "Phylogenetics is the study of evolutionary relationships among biological entities – often species, individuals or genes (which may be referred to as taxa). The major elements of phylogenetics are summarised in figure below.\n",
    "\n",
    "![Intro](./images/phylo1.png)\n",
    "\n",
    "*Taken from: https://www.ebi.ac.uk/training/online/courses/introduction-to-phylogenetics/what-is-phylogenetics/*\n",
    "\n",
    "\n",
    "Phylogenetic trees based on whole genome data tell us about the relationships of bacterial isolates to each other on a very fine scale. When we combine that high-resolution information about the evolutionary relationships of isolates with geographical data it can inform our understanding of the current distribution of the pathogen and allow us to infer the epidemiological processes that have acted on the bacteria over time. The simplest example of this would be if a phylogeny showed that a pathogen was geographically constrained (e.g. isolates from the same region always cluster together). This might indicate that the pathogen is not rapidly spreading. Whereas a pathogen with a phylogeny that shows isolates from distant regions are likely to be related to isolates from nearby, the interpretation is that the pathogen is likely to be spread across regional borders. Geographical referencing of genomic data can also be combined with temporal information to study the movement of pathogens in space and time. This is most useful when done in real time and thus can be useful for outbreak detection and monitoring.\n",
    "\n",
    "ChatGPT\n",
    "\n",
    "This module is divided into three parts where we will address:\n",
    "\n",
    "1. Construction of phylogenetic trees\n",
    "2. Identification of recombination regions\n",
    "3. Clustering using popPUNK."
   ]
  },
  {
   "cell_type": "markdown",
   "metadata": {},
   "source": [
    "### Instalall condacolab"
   ]
  },
  {
   "cell_type": "code",
   "execution_count": null,
   "metadata": {},
   "outputs": [],
   "source": [
    "!pip install -q condacolab\n",
    "import condacolab\n",
    "condacolab.install()"
   ]
  },
  {
   "cell_type": "code",
   "execution_count": null,
   "metadata": {},
   "outputs": [],
   "source": [
    "!conda config --add channels conda-forge\n",
    "!conda config --add channels defaults\n",
    "!conda config --add channels r\n",
    "!conda config --add channels bioconda"
   ]
  },
  {
   "cell_type": "markdown",
   "metadata": {},
   "source": [
    "### Install software"
   ]
  },
  {
   "cell_type": "code",
   "execution_count": null,
   "metadata": {},
   "outputs": [],
   "source": [
    "# Install FastTree\n",
    "!conda install bioconda::fasttree"
   ]
  },
  {
   "cell_type": "code",
   "execution_count": null,
   "metadata": {},
   "outputs": [],
   "source": [
    "# Install snp-sites\n",
    "!conda config --add channels conda-forge\n",
    "!conda config --add channels defaults\n",
    "!conda config --add channels r\n",
    "!conda config --add channels bioconda\n",
    "!conda install snp-sites"
   ]
  },
  {
   "cell_type": "code",
   "execution_count": null,
   "metadata": {},
   "outputs": [],
   "source": [
    "# Install PopPunk\n",
    "!conda install poppunk"
   ]
  },
  {
   "cell_type": "markdown",
   "metadata": {},
   "source": [
    "### Descargar datos"
   ]
  },
  {
   "cell_type": "code",
   "execution_count": null,
   "metadata": {},
   "outputs": [],
   "source": [
    "!wget"
   ]
  },
  {
   "cell_type": "markdown",
   "metadata": {},
   "source": [
    "## Part 1: Creating a phylogenetic tree using FastTree\n",
    "\n",
    "### Step 1: Make a SNP-only alignment using snp-sites\n",
    "\n",
    "Creating a phylogeny from whole genome sequences can be a very time consuming and computationally intensive process. We can speed this up by only using the variable sites (SNPs). However, we need to be aware that only including variable sites can affect the evolutionary rate estimates made by phylogenetics software - therefore, we need to account for the sites we remove in our analysis.\n",
    "\n",
    "We will use snp-sites to do this. You can view the options for snp-sites using the command:"
   ]
  },
  {
   "cell_type": "code",
   "execution_count": null,
   "metadata": {},
   "outputs": [],
   "source": [
    "# Run snp-sites\n",
    "!snp-sites -h"
   ]
  },
  {
   "cell_type": "markdown",
   "metadata": {},
   "source": [
    "First, remove all the invariant sites and create a SNP-only multiple sequence alignment. We will use output from snippy runs described in the previous page. Run the command: "
   ]
  },
  {
   "cell_type": "code",
   "execution_count": null,
   "metadata": {},
   "outputs": [],
   "source": [
    "!snp-sites -o clean.full.SNPs.aln clean.full.aln"
   ]
  },
  {
   "cell_type": "markdown",
   "metadata": {},
   "source": [
    "An explanation of this command is as follows:\n",
    "\n",
    "`snp-sites`: is the tool/program\n",
    "\n",
    "`-o clean.full.SNPs.aln`: specifies the output file\n",
    "\n",
    "`clean.full.aln`: specifies the input file - which is an output of snippy \n",
    "\n",
    "We can see how many invariant sites were removed (and what proportion of A, T, G, C they were) using:"
   ]
  },
  {
   "cell_type": "code",
   "execution_count": null,
   "metadata": {},
   "outputs": [],
   "source": [
    "!snp-sites -C clean.full.aln"
   ]
  },
  {
   "cell_type": "markdown",
   "metadata": {},
   "source": [
    "You will obtain the following output:"
   ]
  },
  {
   "cell_type": "markdown",
   "metadata": {},
   "source": [
    "### Step 2: Creating a phylogenetic tree from the SNPs using FastTree\n",
    "\n",
    "You can view options for fasttree as follows:"
   ]
  },
  {
   "cell_type": "code",
   "execution_count": null,
   "metadata": {},
   "outputs": [],
   "source": [
    "!FastTree -h"
   ]
  },
  {
   "cell_type": "markdown",
   "metadata": {},
   "source": [
    "We will generate a maximum likelihood phylogenetic tree using this command:"
   ]
  },
  {
   "cell_type": "code",
   "execution_count": null,
   "metadata": {},
   "outputs": [],
   "source": [
    "!FastTree -nt -gtr clean.full.SNPs.aln > clean.full.SNPs.aln.tree"
   ]
  },
  {
   "cell_type": "markdown",
   "metadata": {},
   "source": [
    "An explanation of this command is as follows:\n",
    "\n",
    "`FastTree`:  is the tool/program\n",
    "\n",
    "`-nt`: specifies that the input alignment is nucleotide  \n",
    "\n",
    "`gtr`:  specifies the evolutionary model \n",
    "\n",
    "`clean.full.SNPs.aln`: input alignment\n",
    "\n",
    "`clean.full.SNPs.aln.tree`: specifies the output tree name\n",
    "\n",
    "Let’s explore output of our previous command using the command:"
   ]
  },
  {
   "cell_type": "code",
   "execution_count": null,
   "metadata": {},
   "outputs": [],
   "source": [
    "!ls -lh clean.full.*"
   ]
  },
  {
   "cell_type": "markdown",
   "metadata": {},
   "source": [
    "Our maximum likelihood tree is labelled clean.full.SNPs.aln.tree. We can visualise this using figtree. \n",
    "\n",
    "You will have the output:"
   ]
  },
  {
   "cell_type": "markdown",
   "metadata": {},
   "source": [
    "Or using the ggtree package in R\n",
    "```\n",
    "library(ggtree)\n",
    "\n",
    "mltree <- midpoint.root(read.tree(\"clean.full.SNPs.aln.treef\")) \n",
    "\n",
    "ggtree(mltree) + # plot basic tree\n",
    "\n",
    "geom_tiplab(size=3) + # add tip labels\n",
    "\n",
    "geom_treescale() + # add scale bar\n",
    "\n",
    "xlim(0, 0.0005) # set limits so the plot fits nicely on the screen\n",
    "\n",
    "```\n"
   ]
  },
  {
   "cell_type": "markdown",
   "metadata": {},
   "source": [
    "### Step 3: Interpreting a phylogenetic tree \n",
    "\n",
    "We need to remember that the tree we have created is from a SNP only alignment. Strain 21127_1#30 sits on a long branch on its own; which means that it has unique mutations not found in the other strains. Remember that the longer the branch a strain has, the more mutations it has. Strain 15608_3#13 and the reference strain are identical to each other, and have some mutations found also in strains 17150_4#79, 17175_6#87 and 13415_4#10. Strains 17150_4#79, 17175_6#87 and 13415_4#10, have some unique mutations."
   ]
  },
  {
   "cell_type": "markdown",
   "metadata": {},
   "source": [
    "___"
   ]
  },
  {
   "cell_type": "markdown",
   "metadata": {},
   "source": [
    "## Part 2: Identifying recombination using Gubbins\n",
    "\n",
    "Many bacteria participate in high rates of homologous recombination. This means that they donate and receive segments of DNA from each other. In the context of a phylogenetic tree, in which we are comparing similar and dissimilar regions to determine relatedness of isolates this can prove problematic resulting in branch lengths which reflect recombinations rather than divergence. This is very important for *Streptococcus pneumoniae* which is naturally competent, meaning it can readily take up DNA. \n",
    "\n",
    "[Gubbins](https://github.com/nickjcroucher/gubbins/blob/master/docs/gubbins_manual.md) (Genealogies Unbiased By recomBinations In Nucleotide Sequences) is an algorithm that iteratively identifies loci containing elevated densities of base substitutions while concurrently constructing a phylogeny based on the putative point mutations outside of these regions. Simulations demonstrate the algorithm generates highly accurate reconstructions under realistic models of short-term diversification of sequences through both point mutation and recombination, and can be run on alignments of many hundreds of bacterial genome sequences. It is therefore not appropriate for looking at recombination across species-wide diversity - this can be done gene-by-gene using software such as fastGEAR. Instead, it works on samples of limited diversity, sharing a recent common ancestor - a strain or lineage.\n",
    "\n",
    "The required input file for Gubbins is a whole genome FASTA alignment. Each sequence should have a unique identifier, and special characters should be avoided. The sequences should only use the characters ACGT (DNA bases),N (unknown base) or - (alignment gap). If a starting tree is to be included, then this should be a Newick format.The alignment is most easily generated through mapping sequences against a reference sequence. This can be achieved with the popular mapping software Snippy. \n",
    "\n",
    "You can view Gubbins commands as follows:"
   ]
  },
  {
   "cell_type": "code",
   "execution_count": null,
   "metadata": {},
   "outputs": [],
   "source": [
    "!run_gubbins.py -h"
   ]
  },
  {
   "cell_type": "markdown",
   "metadata": {},
   "source": [
    "We will run the gubbins tool on a full genome alignment and not SNPs alignment. Now let’s run this command:"
   ]
  },
  {
   "cell_type": "code",
   "execution_count": null,
   "metadata": {},
   "outputs": [],
   "source": [
    "!run_gubbins.py --mar -p output clean.full.aln"
   ]
  },
  {
   "cell_type": "markdown",
   "metadata": {},
   "source": [
    "An explanation of this command is as follows:\n",
    "\n",
    "`run_gubbins.py`: is the tool/program\n",
    "\n",
    "`--mar`: This option tells Gubbins to use a Markov chain Monte Carlo (MCMC) algorithm for inferring the evolutionary history of the genomes.\n",
    "\n",
    "`-p output`: This option specifies the name of the output directory where the results of the Gubbins analysis will be saved. As /data dir is the mount point of $PWD of your host due to -v, you will see the files in the $PWD of your host\n",
    "\n",
    "`clean.full.aln`: input file\n",
    "\n",
    "This command can take a few minutes to run.\n",
    "\n",
    "Let's look at what gubbins has done using the command (`ls -l output.*`)"
   ]
  },
  {
   "cell_type": "markdown",
   "metadata": {},
   "source": [
    "An explanation of output files:\n",
    "\n",
    "`output.branch_base_reconstruction.embl`:  Base substitution reconstruction in EMBL format\n",
    "\n",
    "`output.recombination_predictions.embl`: Recombination predictions in EMBL file format.\n",
    "\n",
    "`salida.predicciones_recombinación.gff`: Recombination predictions in GFF format\n",
    "\n",
    "`salida.sitios_polimorfos_filtrados.phylip`: Phylip format alignment of filtered polymorphic sites used to generate the phylogeny in the final iteration\n",
    "\n",
    "`output.final_tree.tre`: this file contains the final phylogeny in Newick format; branch lengths are in point mutations\n",
    "\n",
    "`output.node_labelled.final_tree.tre`: final phylogenetic tree in Newick format but with internal node labels; branch lengths are in point mutations\n",
    "\n",
    "`output.log`: log file specifying the software used at each step of the analysis, with accompanying citations\n",
    "\n",
    "`output.per_branch_statistics.csv`:  per branch reporting of the base substitutions inside and outside recombination events\n",
    "\n",
    "`output.summary_of_snp_distribution.vcf`:  VCF file summarising the distribution of point mutations"
   ]
  },
  {
   "cell_type": "markdown",
   "metadata": {},
   "source": [
    "You can explore these output files using `head`command. For example \"output.recombination_predictions.gff\" is a gff file that contains a record of each recombination block identified, how many SNPs it contains, and what samples are affected.\n",
    "\n",
    "\n",
    "EJEMPLO"
   ]
  },
  {
   "cell_type": "markdown",
   "metadata": {},
   "source": [
    "**output.final_tree.tre**  is a phylogeny without recombination regions. Read in the gubbins filtered tree and plot with ggtree, or visualise in Figtree."
   ]
  },
  {
   "cell_type": "code",
   "execution_count": null,
   "metadata": {},
   "outputs": [],
   "source": [
    "!gubbins.tree <- midpoint.root(read.tree(\"gubbins.final_tree.tre\")) \n",
    "\n",
    "ggtree(gubbins.tree) + # plot basic tree\n",
    "\n",
    "geom_tiplab(size=3) + # add tip labels\n",
    "\n",
    "geom_treescale() + # add a scale bar\n",
    "\n",
    "xlim(0, 300) # change the sizing of the plot so it fits nicely on the screen "
   ]
  },
  {
   "cell_type": "markdown",
   "metadata": {},
   "source": [
    "FigTree output\n"
   ]
  },
  {
   "cell_type": "markdown",
   "metadata": {},
   "source": [
    "We can also visualise the recombination blocks using a web tool called phandango. Using your browser, navigate to:  https://jameshadfield.github.io/phandango/#/\n",
    "\n",
    "You will need the following files (drag and drop):\n",
    "\n",
    "1. output.final_tree.tre\n",
    "2. output.recombination_predictions.gff\n",
    "3. PROKKA_03052023.gff (output from Prokka of Reference_sequence_GPSC46.fa)\n",
    "\n",
    "Phandango should automatically display blocks of recombination in red (ancestral) and blue (specific to a sample)\n",
    "\n",
    "Trainer_meeting_230119_v7.jpg\n",
    "\n",
    "![rec](./images/rec.jpg)\n"
   ]
  },
  {
   "cell_type": "markdown",
   "metadata": {},
   "source": [
    "___"
   ]
  },
  {
   "cell_type": "markdown",
   "metadata": {},
   "source": [
    "## Part 3: Clustering using popPUNK\n",
    "\n",
    "[PopPUNK](https://poppunk.readthedocs.io/en/latest/index.html) is a tool for clustering genomes. We refer to the clusters as variable-length-k-mer clusters, or VLKCs. Biologically, these clusters typically represent distinct strains. We refer to subclusters of strains as lineages.\n",
    "\n",
    "The figure below shows an overview of how to run popPUNK\n",
    "\n",
    "![punk](./images/poppunk_flowchart.png)\n",
    "\n",
    "*Taken from: https://poppunk.readthedocs.io/en/latest/overview.html*"
   ]
  },
  {
   "cell_type": "markdown",
   "metadata": {},
   "source": [
    "### Step 1: DDownload database\n",
    "\n",
    "As we are working on Streptococcus pneumoniae, we will download the GPS reference database and GPS designation which we will use to cluster our genome. You can also access reference genomes of other bacterial species from this database Links to an external site.- If a species isn't covered in this database, it is recommended that you create your own database - further instructions are provided here\n",
    "\n",
    "Links to an external site. \n",
    "\n",
    "The *Streptococcus pneumoniae* GPS reference genome database is saved in you directory as (GPS_v6) and the GPS designation as (GPS_v6_external_clusters.csv) "
   ]
  },
  {
   "cell_type": "markdown",
   "metadata": {},
   "source": [
    "### Step 2:  Create a text file with details of your samples\n",
    "\n",
    "Create a file which lists your sample names and paths to their sequence data."
   ]
  },
  {
   "cell_type": "code",
   "execution_count": null,
   "metadata": {},
   "outputs": [],
   "source": [
    "!echo -e \"read_17150_4#79\\t/data/read_17150_4#79/read_17150_4#79_1.fastq.gz\\t/data/read_17150_4#79/read_17150_4#79_2.fastq.gz\" > poppunk_input.tsv"
   ]
  },
  {
   "cell_type": "markdown",
   "metadata": {},
   "source": [
    "This text file contains the sample names and their sequence data. It has no header, is tab separated, and contains the sample name in the first column. Subsequent columns may contain paths to either assembled or raw read data (the type will automatically be inferred by checking for the presence of quality scores). \n",
    "\n",
    "Ejemplo:\n",
    "\n",
    "``\n",
    "read_17150_4#79   /data/read_17150_4#79/read_17150_4#79_1.fastq.gz   /data/read_17150_4#79/read_17150_4#79_2.fastq.gz \n",
    "``"
   ]
  },
  {
   "cell_type": "markdown",
   "metadata": {},
   "source": [
    "### Step 3:  Clustering your genomes\n",
    "\n",
    "The command to cluster your genomes is as follows:"
   ]
  },
  {
   "cell_type": "code",
   "execution_count": null,
   "metadata": {},
   "outputs": [],
   "source": [
    "!poppunk_assign --db GPS_v6 --query /data/poppunk_input.tsv --output poppunk_clusters --external-clustering GPS_v6_external_clusters.csv "
   ]
  },
  {
   "cell_type": "markdown",
   "metadata": {},
   "source": [
    "An explanation of this command is as follows:\n",
    "\n",
    "`poppunk_assign`: is the tool/program/script\n",
    "\n",
    "`--db GPS_v6`: specifies the database\n",
    "\n",
    "`--query /data/poppunk_input.tsv`: receives input from the list.txt\n",
    "\n",
    "`--output poppunk_clusters`: specifies the output file \n",
    "\n",
    "`--external-clustering GPS_v6_external_clusters.csv`:  directory containing the GPS clusters for the references\n",
    "\n",
    "`--threads 8`: specifies virtual cores\n",
    "\n",
    "Upon completion, a new folder \" poppunk_clusters\" will be generated. Navigate to this folder and explore its content. \n",
    "\n",
    "The output files: \n",
    "\n",
    "**poppunk_clusters_clusters.csv**: popPUNK clusters with dataset specific nomenclature\n",
    "\n",
    "**poppunk_clusters_clusters_externos.csv**: GPSC v6 scheme designations\n",
    "\n",
    "We can explore \"poppunk_clusters_clusters.csv\""
   ]
  },
  {
   "cell_type": "markdown",
   "metadata": {},
   "source": [
    ">Note: If a strain has already been assigned a cluster, please rename to run popPUNK (this is to avoid crushing the tool). Novel Clusters are assigned NA in the _external_clusters.csv as they have not been defined in the v6 dataset used to designate the GPSCs. Please email: globalpneumoseq@gmail.com to have novel clusters added to the database and a GPSC cluster name assigned after you have checked for low level contamination which may contribute to biased accessory distances."
   ]
  },
  {
   "cell_type": "markdown",
   "metadata": {},
   "source": [
    "This popPUNK module was developed from the following webpages:\n",
    "\n",
    "https://poppunk.readthedocs.io/en/latest/query_assignment.html\n",
    "\n",
    "\n",
    "https://www.pneumogen.net/gps/training_command_line.html"
   ]
  }
 ],
 "metadata": {
  "language_info": {
   "name": "python"
  }
 },
 "nbformat": 4,
 "nbformat_minor": 2
}
