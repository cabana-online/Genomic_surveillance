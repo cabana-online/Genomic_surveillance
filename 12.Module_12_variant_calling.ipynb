{
 "cells": [
  {
   "cell_type": "markdown",
   "metadata": {},
   "source": [
    "# Module 10: Variant Calling\n",
    "\n",
    "## Overview\n",
    "\n",
    "In this section, we will learn how to map sequence reads to a reference sequence and then identify the variants (both single nucleotide polymorphisms (SNPs) and small insertions and deletions (indels)) in the sequence data. We will then use the variants identified to generate a pseudogenome which is created by replacing the bases in reference genome by variants identified at corresponding positions."
   ]
  },
  {
   "cell_type": "markdown",
   "metadata": {},
   "source": [
    "### Install condacolab"
   ]
  },
  {
   "cell_type": "code",
   "execution_count": null,
   "metadata": {},
   "outputs": [],
   "source": [
    "!pip install -q condacolab\n",
    "import condacolab\n",
    "condacolab.install()"
   ]
  },
  {
   "cell_type": "markdown",
   "metadata": {},
   "source": [
    "### Install software"
   ]
  },
  {
   "cell_type": "code",
   "execution_count": null,
   "metadata": {},
   "outputs": [],
   "source": [
    "# Install bwa\n",
    "!conda install -c conda-forge -c bioconda -c defaults snippy"
   ]
  },
  {
   "cell_type": "code",
   "execution_count": null,
   "metadata": {},
   "outputs": [],
   "source": [
    "# Install samtools\n",
    "!conda config --add channels bioconda\n",
    "!conda config --add channels conda-forge\n",
    "!conda install -c bioconda samtools"
   ]
  },
  {
   "cell_type": "markdown",
   "metadata": {},
   "source": [
    "### Download data"
   ]
  },
  {
   "cell_type": "code",
   "execution_count": null,
   "metadata": {},
   "outputs": [],
   "source": [
    "!wget"
   ]
  },
  {
   "cell_type": "markdown",
   "metadata": {},
   "source": [
    "## Part 1: Alignment\n",
    "\n",
    "We will use the tool [Snippy](https://github.com/tseemann/snippy), which is an integrated pipeline that maps reads to a reference genome and finds variants between the reference genome and the sequence reads. It will use as many CPUs as you can give it on a single computer. It is designed with speed in mind, and produces a consistent set of output files in a single folder.\n",
    "\n",
    "Snippy requires only three inputs: \n",
    "\n",
    "1. Reference genome in FASTA format\n",
    "2. Sequence read file (s) in FASTQ format\n",
    "3. A folder to put in the results\n",
    "\n",
    "The following command is used to run snippy: "
   ]
  },
  {
   "cell_type": "code",
   "execution_count": null,
   "metadata": {},
   "outputs": [],
   "source": [
    "# Run snippy\n",
    "!snippy --outdir GPSC46_folder --R1 17150_4#79_1.fastq.gz --R2 17150_4#79_2.fastq.gz --ref Reference_sequence_GPSC46.fa --cpus 2 --ram 2 --force --quiet"
   ]
  },
  {
   "cell_type": "markdown",
   "metadata": {},
   "source": [
    "An explanation of this command is as follows:\n",
    "\n",
    "`snippy`: es la herramienta\n",
    "\n",
    "`--outdir`: specified the output directory which is GPSC46_folder\n",
    "\n",
    "`--R1`: specifies the first read which is 17150_4#79_1.fastq.gz\n",
    "\n",
    "`--R2`: specifies the second read which is 17150_4#79_2.fastq.gz\n",
    "\n",
    "`--ref`: specifies the reference genome which is Reference_sequence_GPSC46.fa\n",
    "\n",
    "`--cpus`: specifies maximum number of CPU cores to use = 2\n",
    "\n",
    "`--ram`: specifies that the RAM is kept under 2 GB\n",
    "\n",
    "`--force`: force overwrite of existing output folder\n",
    "\n",
    "`--quiet`: no screen output"
   ]
  },
  {
   "cell_type": "markdown",
   "metadata": {},
   "source": [
    "There should now be a new folder called GPSC46_folder. Now lets `cd` to this folder and list `ls -alh`the content of the directory to check we have our new files, and also check out their sizes. \n",
    "\n",
    "Deberá ver lo siguiente:"
   ]
  },
  {
   "cell_type": "markdown",
   "metadata": {},
   "source": [
    "A description of the output files are as follows:\n",
    "\n",
    "`ref.fa`: FASTA version/copy of the reference\n",
    "\n",
    "`ref.ra.fai`: Index for the reference file\n",
    "\n",
    "`snps.aligned.fa`: A version of the reference but with (-) at position with depth=0 and N for 0 < depth < --mincov (does not have variants)\n",
    "\n",
    "`snps.bam`: The alignments in BAM format. Includes unmapped, multimapping reads. Excludes duplicates.\n",
    "\n",
    "`snps.bam.bai`: Index for the .bam file\n",
    "\n",
    "`snps.bed`: The variants in Browser Extensible Data (BED) format\n",
    "\n",
    "`snps.consensus.fa`: A version of the reference genome with which contains all contains all high quality variants\n",
    "\n",
    "`snps.consensus.subs.fa`: A version of the reference genome which contains only high quality SNPs (no INDELS)\n",
    "\n",
    "`snps.tab`: A simple tab-separated summary of all the variants\n",
    "\n",
    "`snps.csv`: A comma-separated version of the .tab file\n",
    "\n",
    "`snps.txt`: Tab-separated columnar list of alignment/core-size statistics\n",
    "\n",
    "`snps.filt.vcf`: The filtered variant calls from Freebayes\n",
    "\n",
    "`snps.raw.vcf`: The unfiltered variant calls from Freebayes\n",
    "\n",
    "`snps.vcf`: Multi-sample VCF file with genotype GT tags for all discovered alleles\n",
    "\n",
    "`snps.vcf.gz`: Compressed .vcf file \n",
    "\n",
    "`snps.vcf.gz.csi`: Index for the .vcf.gz via bcftools index\n",
    "\n",
    "`snps.gff`: The variants in GFF3 format\n",
    "\n",
    "`snps.html`: A HTML version of the .tab file\n",
    "\n",
    "`snps.log`: A log file with the commands run and their outputs"
   ]
  },
  {
   "cell_type": "markdown",
   "metadata": {},
   "source": [
    "Snippy has done a number of things. You can examine the log file to see exactly what snippy has done. So type:"
   ]
  },
  {
   "cell_type": "code",
   "execution_count": null,
   "metadata": {},
   "outputs": [],
   "source": [
    "!less snps.log"
   ]
  },
  {
   "cell_type": "markdown",
   "metadata": {},
   "source": [
    "The output is as shown in the table below:"
   ]
  },
  {
   "cell_type": "markdown",
   "metadata": {},
   "source": [
    "You can also use `grep` to retrieve the relevant lines for each command from the log file. "
   ]
  },
  {
   "cell_type": "code",
   "execution_count": null,
   "metadata": {},
   "outputs": [],
   "source": [
    "!grep outdir snps.log"
   ]
  },
  {
   "cell_type": "markdown",
   "metadata": {},
   "source": [
    "You will get this output:"
   ]
  },
  {
   "cell_type": "markdown",
   "metadata": {},
   "source": [
    "To see the bwa processing steps type the command:"
   ]
  },
  {
   "cell_type": "code",
   "execution_count": null,
   "metadata": {},
   "outputs": [],
   "source": [
    "!grep bwa snps.log"
   ]
  },
  {
   "cell_type": "markdown",
   "metadata": {},
   "source": [
    "You will get this output:"
   ]
  },
  {
   "cell_type": "markdown",
   "metadata": {},
   "source": [
    "The command `bwa mem -Y -M -R '@RG\\tID:GPSC46_folder\\tSM:GPSC46_folder' -t 2 reference/ref.fa /data/17150_4#79_1.fastq.gz /data/17150_4#79_2.fastq.gz | samclip --max 10 --ref reference/ref.fa. fai | samtools sort -n -l 0 -T /tmp --threads 0 -m 1000M | samtools fixmate -m --threads 0 - - | samtools sort -l 0 -T /tmp --threads 0 -m 1000M | samtools markdup -T /tmp --threads 0 -r -s - - > snps.bam`   is a combination of several commands combined using pipes `|`. \n",
    "\n",
    "A description of this command is as follows:\n",
    "\n",
    "`bwa mem -Y -M -R '@RG\\tID:GPSC46_folder\\tSM:GPSC46_folder' -t 2 reference/ref.fa /data/17150_4#79_1.fastq.gz /data/17150_4#79_2.fastq.gz`: This command uses bwa to map the sequence reads to the reference genome using bwa mem.\n",
    "\n",
    "`samclip --max 10 --ref referencia/ref.fa.fai`: This command uses samtools to clip/remove  unaligned reads.\n",
    "\n",
    "`samtools sort -n -l 0 -T /tmp --threads 0 -m 1000M`: This command tells samtools to fill in mate coordinates and insert size fields.\n",
    "\n",
    "`samtools fixmate -m --threads 0 - -`: This command tells samtools to fill in mate coordinates and insert size fields.\n",
    "\n",
    "`samtools sort -l 0 -T /tmp --threads 0 -m 1000M`: This command tells samtools to sort based on chromosome number and coordinates.\n",
    "\n",
    "`samtools markdup -T /tmp --threads 0 -r -s - - `:This command uses samtools  to remove all the duplicates and also print some basic statistics about the results file. \n",
    "\n",
    "`>snps.bam`: snps.bam is the outputfile."
   ]
  },
  {
   "cell_type": "markdown",
   "metadata": {},
   "source": [
    "To see samtools processing type the command:"
   ]
  },
  {
   "cell_type": "code",
   "execution_count": null,
   "metadata": {},
   "outputs": [],
   "source": [
    "!grep samtools snps.log"
   ]
  },
  {
   "cell_type": "markdown",
   "metadata": {},
   "source": [
    "You will get this output"
   ]
  },
  {
   "cell_type": "markdown",
   "metadata": {},
   "source": [
    "The command `bwa mem  -Y -M -R '@RG\\tID:GPSC46_folder\\tSM:GPSC46_folder' -t 2 reference/ref.fa /data/17150_4#79_1.fastq.gz /data/17150_4#79_2.fastq.gz | samclip --max 10 --ref reference/ref.fa.fai | samtools sort -n -l 0 -T /tmp --threads 0 -m 1000M | samtools fixmate -m --threads 0 - - | samtools sort -l 0 -T /tmp --threads 0 -m 1000M | samtools markdup -T /tmp --threads 0 -r -s - - > snps.bam`   has been explained above. \n",
    "\n",
    "To see freebayes processing type the command"
   ]
  },
  {
   "cell_type": "code",
   "execution_count": null,
   "metadata": {},
   "outputs": [],
   "source": [
    "!grep freebayes snps.log"
   ]
  },
  {
   "cell_type": "markdown",
   "metadata": {},
   "source": [
    "You will get this output"
   ]
  },
  {
   "cell_type": "markdown",
   "metadata": {},
   "source": [
    "This command uses freebayes to identify potential variants with coordinates in variant call VCF format."
   ]
  },
  {
   "cell_type": "markdown",
   "metadata": {},
   "source": [
    "To see bcftools processing type the command"
   ]
  },
  {
   "cell_type": "code",
   "execution_count": null,
   "metadata": {},
   "outputs": [],
   "source": [
    "!grep bcftools snps.log"
   ]
  },
  {
   "cell_type": "markdown",
   "metadata": {},
   "source": [
    "You will get this output"
   ]
  },
  {
   "cell_type": "markdown",
   "metadata": {},
   "source": [
    "The command `bcftools view --include 'FMT/GT=\"1/1\" && QUAL>=100 && FMT/DP>=10 && (FMT/AO)/(FMT/DP)>=0' snps.raw.vcf | vt normalize-r reference/ref. fa - | bcftools annotate --remove '^INFO/TYPE,^INFO/DP,^INFO/RO,^INFO/AO,^INFO/AB,^FORMAT/GT,^FORMAT/DP,^FORMAT/RO,^FORMAT/AO,^FORMAT/QR,^FORMAT/QA,^FORMAT/GL' > snps.filt.vcf ` uses bcftools to filter the variants identified above using fixed thresholds.\n",
    "\n",
    "The command `bcftools consensus --sample GPSC46_folder -f reference/ref.fa -o snps.consensus.fa snps.vcf.gz` uses bcftools to create a pseudogenome by replacing the bases in reference genome by the filtered substitutions(SNPs) identified above."
   ]
  },
  {
   "cell_type": "markdown",
   "metadata": {},
   "source": [
    "## Part 2: Viewing output\n",
    "\n",
    "The standard output format for storing variant call information is VCF. [Here](https://samtools.github.io/hts-specs/VCFv4.2.pdf)  you can find more information for its interpretation.\n",
    "\n",
    "To visualize the VCF, run the command:"
   ]
  },
  {
   "cell_type": "code",
   "execution_count": null,
   "metadata": {},
   "outputs": [],
   "source": [
    "!head -n30 snps.vcf"
   ]
  },
  {
   "cell_type": "markdown",
   "metadata": {},
   "source": [
    "You will get this output:"
   ]
  },
  {
   "cell_type": "markdown",
   "metadata": {},
   "source": [
    "This command prints the first 30 lines of the snps.vcf file. \n",
    "\n",
    "The first 27 lines here are ‘headers’ and contain information about what has been done to call the variants, and helps you to interpret what different columns mean. All these lines begin with \"#\"\n",
    "\n",
    "The last 3 lines are individual variants identified, one per line. Variants columns are labelled #CHROM POS ID REF ALT QUAL FILTER INFO FORMAT GPSC46_folder"
   ]
  },
  {
   "cell_type": "markdown",
   "metadata": {},
   "source": [
    "We can view a slightly easier summary of these variants in the snps.tab file"
   ]
  },
  {
   "cell_type": "code",
   "execution_count": null,
   "metadata": {},
   "outputs": [],
   "source": [
    "!head -n5 snps.tab"
   ]
  },
  {
   "cell_type": "markdown",
   "metadata": {},
   "source": [
    "You will get this output:"
   ]
  },
  {
   "cell_type": "markdown",
   "metadata": {},
   "source": [
    "This command prints the first 5 lines of the snps.vcf file. In this file, we have not provided gene information, so only the first 6 columns are relevant."
   ]
  },
  {
   "cell_type": "markdown",
   "metadata": {},
   "source": [
    "## Part 3: Pseudogenomes\n",
    "\n",
    "Snippy has also created a fasta file with our pseudosequence genome which is made by replacing the reference bases with the snps identified."
   ]
  },
  {
   "cell_type": "code",
   "execution_count": null,
   "metadata": {},
   "outputs": [],
   "source": [
    "!head snps.consensus.subs.fa"
   ]
  },
  {
   "cell_type": "markdown",
   "metadata": {},
   "source": [
    "You will get this output:\n",
    "\n",
    "This command prints the first few lines of the file \"snps.consensus.subs.fa\"."
   ]
  },
  {
   "cell_type": "markdown",
   "metadata": {},
   "source": [
    "## Part 4: Handling multiple genomes - creating multiple sequence alignment \n",
    "\n",
    "Running a set of isolate sequences (reads or contigs) against the same reference, you can use the snippy-multi script. \n",
    "\n",
    "Navigate to the multiple_files Links to an external site. folder and explore its contents. To execute the snippy-multi script, you will need:\n",
    "\n",
    "- Paired end reads (single-end reads or assembled contigs)\n",
    "- Tab separated input file (which contains a list of the forward and reverse reads in the following format: ID, names of R1 reads and names of R2 reads)\n",
    "- Reference sequence\n",
    "\n",
    "Explore the tab separated input file; it should have the following format"
   ]
  },
  {
   "cell_type": "markdown",
   "metadata": {},
   "source": [
    "Now lets us use snippy-multi to generate a multiple sequence alignment file. \n",
    "\n",
    "First run this command to generate an output script:"
   ]
  },
  {
   "cell_type": "code",
   "execution_count": null,
   "metadata": {},
   "outputs": [],
   "source": [
    "!snippy-multi list.txt --ref Reference_sequence_GPSC46.fa --cpus 2 > runme.sh"
   ]
  },
  {
   "cell_type": "markdown",
   "metadata": {},
   "source": [
    "An explanation of this command is as follows:\n",
    "\n",
    "`snippy-multi`: is the tool\n",
    "\n",
    "`list.txt`: Tab separated input file (which contains a list of the forward and reverse reads in the following format: ID, names of R1 reads and names of R2 reads)\n",
    "\n",
    "`--ref`: specifies the reference genome which is Reference_sequence_GPSC46.fa\n",
    "\n",
    "`--cpus`: specifies maximum number of CPU cores to use = 2\n",
    "\n",
    "`>runme.sh`: is the output script\n",
    "\n",
    "You will get this output:"
   ]
  },
  {
   "cell_type": "markdown",
   "metadata": {},
   "source": [
    "You can check that the script makes sense by running the command:"
   ]
  },
  {
   "cell_type": "code",
   "execution_count": null,
   "metadata": {},
   "outputs": [],
   "source": [
    "!less runme.sh"
   ]
  },
  {
   "cell_type": "markdown",
   "metadata": {},
   "source": [
    "You will get this output if the script is correct:"
   ]
  },
  {
   "cell_type": "markdown",
   "metadata": {},
   "source": [
    "Now, generate the alignment by running the command:"
   ]
  },
  {
   "cell_type": "code",
   "execution_count": null,
   "metadata": {},
   "outputs": [],
   "source": [
    "!sh ./runme.sh"
   ]
  },
  {
   "cell_type": "markdown",
   "metadata": {},
   "source": [
    "An explanation of this command is as follows:\n",
    "\n",
    "`sh`: is the command name of the Bourne shell, the standard command language interpreter of Unix and many Unix-like operating systems, including Linux\n",
    "\n",
    "`/.runme.sh`: the output script in the current directory `/.`\n",
    "\n",
    ">Note: the tool snippy-multi will also run snippy-core to generate the core genome SNP alignment files core.*  \n",
    "\n",
    "Snippy has now created a number of files, including a ‘core SNP alignment’\n",
    "\n",
    "Run this command to check output"
   ]
  },
  {
   "cell_type": "code",
   "execution_count": null,
   "metadata": {},
   "outputs": [],
   "source": [
    "!ls -l core.*"
   ]
  },
  {
   "cell_type": "markdown",
   "metadata": {},
   "source": [
    "An explanation of these commands is as follows:\n",
    "\n",
    "`ls -l` is the command for long listing all items with core as prefix (core.*)\n",
    "\n",
    "You will get this output"
   ]
  },
  {
   "cell_type": "markdown",
   "metadata": {},
   "source": [
    "Viewing output\n",
    "\n",
    "We have various files that summarise our variants, e.g.\n",
    "\n",
    "Run this command to check the content of some these files:"
   ]
  },
  {
   "cell_type": "code",
   "execution_count": null,
   "metadata": {},
   "outputs": [],
   "source": [
    "!head core.tab"
   ]
  },
  {
   "cell_type": "markdown",
   "metadata": {},
   "source": [
    "You will get this output"
   ]
  },
  {
   "cell_type": "markdown",
   "metadata": {},
   "source": [
    "And our multiple sequence alignment containing all genomes is in the file (core.tull.aln). View this file: "
   ]
  },
  {
   "cell_type": "code",
   "execution_count": null,
   "metadata": {},
   "outputs": [],
   "source": [
    "!head core.full.aln"
   ]
  },
  {
   "cell_type": "markdown",
   "metadata": {},
   "source": [
    "You will get this output:"
   ]
  },
  {
   "cell_type": "markdown",
   "metadata": {},
   "source": [
    "This file “core.full.aln” masks sequences with low confidence in different ways, but for some applications we want everything masked in the same way. Let’s change that so anything uncertain is marked as ’N’ using the snipp-clean_full_aln script that comes with snippy."
   ]
  },
  {
   "cell_type": "code",
   "execution_count": null,
   "metadata": {},
   "outputs": [],
   "source": [
    "!snippy-clean_full_aln core.full.aln > clean.full.aln"
   ]
  },
  {
   "cell_type": "markdown",
   "metadata": {},
   "source": [
    "View this file: "
   ]
  },
  {
   "cell_type": "code",
   "execution_count": null,
   "metadata": {},
   "outputs": [],
   "source": [
    "!head clean.full.aln"
   ]
  },
  {
   "cell_type": "markdown",
   "metadata": {},
   "source": [
    "You will get this output"
   ]
  }
 ],
 "metadata": {
  "language_info": {
   "name": "python"
  }
 },
 "nbformat": 4,
 "nbformat_minor": 2
}
