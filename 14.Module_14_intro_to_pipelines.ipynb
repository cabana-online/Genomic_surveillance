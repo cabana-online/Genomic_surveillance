{
 "cells": [
  {
   "cell_type": "markdown",
   "metadata": {},
   "source": [
    "# Module 12: NGS Bioinformatics workflow/pipeline\n",
    "\n",
    "## Flujo de trabajo bioinformático\n",
    "\n",
    "Bioinformatics workflow/pipeline \n",
    "\n",
    "NGS bioinformatics pipeline or workflow is a predefined algorithm which is intended to combine other independent programs or scripts, to progressively guide and process massive sequence data, together with their associated metadata, through a series of transformations using multiple software components, databases, and operation environments (1,2). For example, one would want to write a programme that executes Trimmomatic,  FastQC, BWA/SPAdes, Kraken, Samtools, Picard, GATK and Bcftools using a single command. \n",
    "\n",
    "![Intro](./images/pipeline.png)\n",
    "\n",
    "*Fig 1: A simplified next-generation sequencing (NGS) bioinformatics analysis workflow. The yellow boxes represent the execution tools used to process NGS data. The boxes in green represent the output data.  QC: Quality control. BWA: Burrows-Wheeler Aligner. SMALT: Sequence Mapping and Alignment Tool. GATK: Genome Analysis Toolkit. SSAHA: Sequence Search and Alignment by Hashing Algorithm. BAM: Binary Alignment Map. SAM: Sequence Alignment Map. VCF: Variant Call Format. CSV: Comma-separated values. GFF: General Feature Form*"
   ]
  },
  {
   "cell_type": "markdown",
   "metadata": {},
   "source": [
    "## 1. Traditional bioinformatics workflow managers\n",
    "\n",
    "Historically, scripts and makefiles were used to develop computational pipelines/workflow (2,4). Scripts allow variables and conditional logic to be used to build flexible pipelines, however, they tend to be very brittle, lacking support for (2,5) \n",
    "\n",
    "### 1. 1. Traditional bioinformatics workflow managers\n",
    "\n",
    "Historically, scripts and makefiles were used to develop computational pipelines/workflow (2,4). Scripts allow variables and conditional logic to be used to build flexible pipelines, however, they tend to be very brittle, lacking support for (2,5):  \n",
    "\n",
    "1. dependencies which is the ability to update downstream files when upstream files are updated; and \n",
    "2. reentrancy which is the ability of a program to continue where it left off if interrupted, therefore removing the need to restart from the beginning. \n",
    "\n",
    "GNU Make is a Unix tool that automatically executes a series of commands to build a target file from source files and specifies a list of dependencies of the target file by reading a makefile (2,6). This tool introduced the concept of wildcard characters, which means, a single file name can specify many files using wildcard characters [i.e., ‘*', ‘?' and ‘[...]'] (2,7). For example, `*.fasta' specifies a list of all the files whose names end in ‘.fasta' within the working directory (7). Although Make can be used for any workflow, it was originally intended to coordinate software compilation (6) and therefore has the following limitations when it's used for scientific pipelines:\n",
    "\n",
    "1. dispatching tasks that can be run in parallel on several nodes of a cluster is not easily done within the Make framework because it lacks an built-in support for distributed computing (1,2);\n",
    "\n",
    "2. using other means of associating inputs to outputs other than the exact filename stem matching is challenging since Make’s syntax is restricted to one wildcard per rule and does not allow for lookup tables (1,2);\n",
    "\n",
    "3. more sophisticated logic is difficult to implement and therefore impractical for modern bioinformatic analyses (1,2). \n",
    "\n",
    "![Intro](./images/esq.png)\n",
    "\n",
    "*Fig 2: An outline of a traditional workflow manager. It is usually coupled to the local computing environment and it is not flexible to changes in software or data versions.*"
   ]
  },
  {
   "cell_type": "markdown",
   "metadata": {},
   "source": [
    "### 2. Modern bioinformatics workflow managers\n",
    "\n",
    "Modern workflow managers automate computation analyses by stringing together individual data processing tasks into cohesive pipelines, and they make up for traditional workflow manager limitations in syntax, monitoring, parallel processing, visualisation, version control and producing summary reports (2,3). These modern workflow managers are the interface between the analyst and the computational environment and they are generally encompass: \n",
    "\n",
    "- the workflow language specifications to interconnect the analysis executables; and \n",
    "- the execution engine to dispatch tasks and manage dependencies on the computing infrastructure (Fig 3).\n",
    "\n",
    "![Intro](./images/esq2.png)\n",
    "\n",
    "*Fig 3: An overview of a modern bioinformatics workflow manager. The elements of the workflow manager are illustrated in the brown dotted box. The analysis tools and data storage can be containerised and also stored in cloud computing. Workflow managers can be executed in any of the three computing environments shown in the purple dotted box, i.e., on a local computer (LC), on high performance computing (HPU) or on cloud computing. The execution steps are outlined in the pink dotted box. The input data could be fastq files and reference sequences. Steps 1 - 4 are the bioinformatics workflow analysis (which include: adapter trimming, quality control, mapping/assembly and in silico characterisation).  The output data includes: quality control report, and genome files (VCF, CSV, TAB, GFF, BAM, FASTA/FA). What makes modern workflow manager advantageous/robust than traditional workflow managers is because of the following aspects: portability (described in the lower green box), scalability (described in the lower blue box), re-entrancy (described in the lower yellow box) and data provenance (described in the lower light orange box) (2,3,8–19). Re-entrancy checkpoints are shown in the yellow stars (these checkpoints could be at the input data step,or at any step within the execution process).*"
   ]
  },
  {
   "cell_type": "markdown",
   "metadata": {},
   "source": [
    "There are several workflow managers available in the market. These workflow managers can be broadly classified into four classes (2,3):\n",
    "\n",
    "**Graphical workflow managers** - these provide an interface for users to drag and drop tools into workflows and chain them together, enabling the creation of complex computational pipelines without programming experience. Examples include Galaxy and KNIME.\n",
    "\n",
    "**Domain-specific Language (DSL)** - this is a programming language developed to meet a specific need within a particular domain, thus enabling rapid deployment of reproducible, robust, and portable computational workflows. Examples include Nextflow, Snakemake, GenPIPES, bPIPES, Pachyderm. \n",
    "\n",
    "**L**ibrary based** - these implement their pipeline management systems as a programming library for an existing, popular programming language such as python - they leverage existing tooling, text editor support, and other programming libraries in the language. Examples include SciPipe, Luigi. \n",
    "\n",
    "**Workflow specifications** - allow for the separation of the workflow from the execution environment, and can be executed across workflow managers or execution environments that meet the hardware requirement for the workflow. It is suited for scientists/researchers who want to decouple their workflow from a specific workflow manager to enable a higher degree of portability and sharing.  Examples include Common Workflow Language (CWL), Workflow description Language (WDL). \n",
    "\n",
    "An overview of these workflow managers is provided in **Table 1**. "
   ]
  },
  {
   "cell_type": "markdown",
   "metadata": {},
   "source": [
    "### How to choose a workflow manager\n",
    "\n",
    "Choosing a workflow manager should informed by the following aspects:\n",
    "\n",
    "- The demands of developing the pipeline and the level of expertise of the end-user (i.e., highly skilled developers vs those with minimal programming experience) (2,3). Easy-to-use graphical workflow managers, such as Galaxy, and ready-to-use pipeline repositories enable the execution of complex analysis without programming experience (3). Ready-to-use pipeline repositories enable people to share and execute pipelines facilitating transparency and reproducibility of workflows. For example, nf-core project provides a curated framework for Nextflow pipelines with specific best practices and set of standards for pipeline implementation  to ensure their maintenance, documentation, portability, scalability and reproducibility (3,20). \n",
    "    \n",
    "- Reproducibility of the workflow manager - a robust workflow manager should enable data provenance, readability, portability, increase transparency, enable long-term sustainability of analysis workflows and help achieve fiandable, accessible, interoperable and reusable computational analysis (2,3).\n",
    "    \n",
    "- Ease in integrating new tools (2).\n",
    "    \n",
    "- Type of data analysis being conducted - large-scale and highly repetitive research requiring a high degree of data provenance and version control may benefit from workflow specification managers (2,3).\n",
    "    \n",
    "- Accessibility to internal HPC resources - researchers with limited access to HPC resources may consider cloud-based workbenches and application programming interface (API). Server-based workflow managers offer the added benefit of unlimited scalability and collaborative research opportunities, albeit incurring direct costs  (2,3).\n"
   ]
  },
  {
   "cell_type": "markdown",
   "metadata": {},
   "source": [
    "### Opportunities\n",
    "\n",
    "Given that workflow managers are being widely shared with an increased emphasis of ensuring transparency and reproducibility, there is a growing need to standardize workflow description language as well as ensuring systematic and quantitative evaluation of their robustness, memory, and storage requirements (2,3). For long-lasting impact and sustainability of codes for bioinformatics analysis workflows, long-term dedicated funding will be required to support best practices for software development, maintenance, standardization, and evaluation (2,3)."
   ]
  },
  {
   "cell_type": "markdown",
   "metadata": {},
   "source": [
    "|   Class                           |   Tool (Pipeline Initiative)         |   Ease of development  |   Ease of use  |   Portability                                                               |   Scalability  |   Expressiveness                   |   Resources            |\n",
    "|-----------------------------------|--------------------------------------|------------------------|----------------|-----------------------------------------------------------------------------|----------------|------------------------------------|------------------------|\n",
    "|   Graphical                       |   Galaxy   (Galaxy community)        |   ⬤⬤⬤                  |   ⬤⬤⬤          |   ⬤⬤⬤                                                                       |   ⬤⬤⬤          |   ⬤◯◯   Docker, Conda, Singularity |   Tutorials, Forums    |\n",
    "|                         |   KNIME   (KNIME Hub)                |   N/A                  |   ⬤⬤⬤          |   ◯◯◯  GUI                                                                  |   ⬤⬤◐          |   ⬤◯◯                              |   Tutorials, Forums    |\n",
    "|   Domain-specific Language (DSL)  |   Nextflow    (nf-core)              |   ⬤⬤⬤◐                 |   ⬤⬤◯          |   ⬤⬤⬤                                                                       |   ⬤⬤⬤          |   ⬤⬤⬤                              |   Tutorials, Forums    |\n",
    "|     |                 |                        |                |   Docker, Shifter, Singularity, Podman, Conda                               |                |   Groovy                           |                        |\n",
    "|     |   Snakemake   (Snakemake-Workflows)  |   ⬤⬤⬤◐                 |   ⬤⬤◯          |   ⬤⬤◐                                                                       |   ⬤⬤⬤          |   ⬤⬤⬤                              |   Tutorials, Forums    |\n",
    "|     |     |                        |                |   Singularity, Conda (Docker containers can be executed using Singularity)  |                |   Python                           |                        |\n",
    "|     |   GenPipes (GenPipes)                |   N/A                  |   ⬤⬤◯          |   ⬤⬤◯                                                                       |   ⬤⬤◯          |   ⬤⬤⬤                              |   Tutorials, Forums    |\n",
    "|     |                   |                        |                |   Docker, Singularity                                                       |                |   Python                           |                        |\n",
    "|     |   bPipes                             |   ⬤⬤⬤⬤                 |   ⬤⬤◯          |   ⬤⬤◯                                                                       |   ⬤⬤◐          |   ⬤⬤⬤                              |   Tutorials, Forums    |\n",
    "|   |                                |                        |                |   Docker, Singularity                                                       |                |   Groovy                           |                        |\n",
    "|     |   Pachyderm                          |   N/A                  |   ⬤⬤◯          |   ⬤◯◯                                                                       |   ⬤⬤◯          |   ⬤⬤⬤                              |   Tutorials, Forums    |\n",
    "|     |                             |                        |                |   JSON and YAML                                                             |                |   Docker                           |                        |\n",
    "|   Library                         |   SciPipe                            |   N/A                  |   ⬤⬤◯          |   ◯◯◯                                                                       |   ⬤⬤◐          |   ⬤⬤⬤                              |   Tutorials, Forums    |\n",
    "|                            |                               |                        |                |   Go                                                                        |                |                                    |                        |\n",
    "|                           |   Luigi                              |   ⬤⬤⬤                  |   ⬤⬤◯          |   ⬤◯◯                                                                       |   ⬤⬤◐          |   ⬤⬤⬤                              |   Tutorial, Forum      |\n",
    "|                            |                                 |                        |                |   Python                                                                    |                |   Docker                           |                        |\n",
    "|   Workflow specification          |   WDL    (BioWDL, WARP)              |   N/A                  |   ⬤◯◯          |   ⬤⬤⬤                                                                       |   ⬤⬤◐          |   ⬤⬤◯                              |   Tutorials,   Forums  |\n",
    "|             |                 |                        |                |   Cromwell                                                                  |                |   Docker, Singularity, udocker     |                        |\n",
    "|             |   CWL                                |   N/A                  |   ⬤◯◯          |   ⬤⬤◐                                                                       |   ◯◯◯          |   ⬤⬤◯                              |   Tutorials,   Forums  |\n",
    "|             |                                   |                        |                |   Cwltool                                                                   |                |   Docker, udocker                  |                        |\n",
    "|             |   CWL/WDL/   Python                  |   ⬤⬤◐                  |   ⬤◯◯          |   ⬤◐◯                                                                       |   ⬤⬤⬤          |   ⬤⬤⬤                              |   Tutorials,   Forums  |\n",
    "|             |                     |                        |                |   Toil                                                                      |                |   Docker                           |                        |"
   ]
  },
  {
   "cell_type": "markdown",
   "metadata": {},
   "source": [
    "*Table 1: Classification/characteristics of modern workflow managers. CWL: Common Workflow Language Specification. JSON: JavaScript Object Notation. WDL: Workflow description Language pronounced ‘widdle’. GUI: Graphical User Interface. N/A: Not Available*"
   ]
  },
  {
   "cell_type": "markdown",
   "metadata": {},
   "source": [
    "## References\n",
    "\n",
    "1. Standards and Guidelines for Validating Next-Generation Sequencing Bioinformatics Pipelines: A Joint Recommendation of the Association for Molecular Pathology and the College of American Pathologists. J Mol Diagn. 2018 Jan 1;20(1):4–27.\n",
    "\n",
    "2. Leipzig J. A review of bioinformatic pipeline frameworks. Brief Bioinform. 2017 May;18(3):530.\n",
    "\n",
    "3. Wratten L, Wilm A, Göke J. Reproducible, scalable, and shareable analysis pipelines with bioinformatics workflow managers. Nat Methods. 2021 Sep 23;18(10):1161–8.\n",
    "\n",
    "4. What is the difference between a Bioinformatics pipeline and workflow?. Bioinformatics Stack Exchange: https://bioinformatics.stackexchange.com/questions/7347/what-is-the-difference-between-a-bioinformatics-pipeline-and-workflow\n",
    "\n",
    "5. Sussman GJ. Building Robust Systems. 2007. Available from: https://citeseerx.ist.psu.edu/viewdoc/download?doi=10.1.1.113.1324&rep=rep1&type=pdf\n",
    "\n",
    "6. Make - GNU Project - Free Software Foundation. Available from: https://www.gnu.org/software/make/\n",
    "\n",
    "7. Writing Rules. Available from: https://web.mit.edu/gnu/doc/html/make_4.html\n",
    "\n",
    "8. Ahmed AE, Allen JM, Bhat T, Burra P, Fliege CE, Hart SN, et al. Design considerations for workflow management systems use in production genomics research and the clinic. Sci Rep. 2021 Nov 4;11(1):1–18.\n",
    "\n",
    "9. Abate P, Di Cosmo R, Treinen R, Zacchiroli S. A modular package manager architecture [Internet]. Vol. 55, Information and Software Technology. 2013. p. 459–74. Available from: http://dx.doi.org/10.1016/j.infsof.2012.09.002\n",
    "\n",
    "10. Decan A, Mens T, Grosjean P. An empirical comparison of dependency network evolution in seven software packaging ecosystems [Internet]. Vol. 24, Empirical Software Engineering. 2019. p. 381–416. Available from: http://dx.doi.org/10.1007/s10664-017-9589-y\n",
    "\n",
    "11. Gruening B, Sallou O, Moreno P, da Veiga Leprevost F, Ménager H, Søndergaard D, et al. Recommendations for the packaging and containerizing of bioinformatics software [Internet]. Vol. 7, F1000Research. 2019. p. 742. Available from: http://dx.doi.org/10.12688/f1000research.15140.2\n",
    "\n",
    "12. Silver A. Software simplified [Internet]. Vol. 546, Nature. 2017. p. 173–4. Available from: http://dx.doi.org/10.1038/546173a\n",
    "\n",
    "13. Love MI, Soneson C, Hickey PF, Johnson LK, Pierce NT, Shepherd L, et al. Tximeta: Reference sequence checksums for provenance identification in RNA-seq. PLoS Comput Biol. 2020 Feb;16(2):e1007664.\n",
    "\n",
    "14. Kim YM, Poline JB, Dumas G. Experimenting with reproducibility: a case study of robustness in bioinformatics. Gigascience [Internet]. 2018 Jul 1;7(7). Available from: http://dx.doi.org/10.1093/gigascience/giy077\n",
    "\n",
    "15. Black A, MacCannell DR, Sibley TR, Bedford T. Ten recommendations for supporting open pathogen genomic analysis in public health. Nat Med. 2020 Jun;26(6):832–41.\n",
    "\n",
    "16. Langmead B, Nellore A. Cloud computing for genomic data analysis and collaboration. Nat Rev Genet. 2018 May;19(5):325.\n",
    "\n",
    "17. Birger C, Hanna M, Salinas E, Neff J, Saksena G, Livitz D, et al. FireCloud, a scalable cloud-based platform for collaborative genome analysis: Strategies for reducing and controlling costs [Internet]. Available from: http://dx.doi.org/10.1101/209494\n",
    "\n",
    "18. Han L, Canon LC, Casanova H, Robert Y, Vivien F. Checkpointing Workflows for Fail-Stop Errors [Internet]. 2017 IEEE International Conference on Cluster Computing (CLUSTER). 2017. Available from: http://dx.doi.org/10.1109/cluster.2017.14\n",
    "\n",
    "19. Jackson M, Kavoussanakis K, Wallace EWJ. Using prototyping to choose a bioinformatics workflow management system. PLoS Comput Biol. 2021 Feb;17(2):e1008622.\n",
    "\n",
    "20. Ewels PA, Peltzer A, Fillinger S, Patel H, Alneberg J, Wilm A, et al. The nf-core framework for community-curated bioinformatics pipelines. Nat Biotechnol. 2020 Mar;38(3):276–8."
   ]
  }
 ],
 "metadata": {
  "language_info": {
   "name": "python"
  }
 },
 "nbformat": 4,
 "nbformat_minor": 2
}
