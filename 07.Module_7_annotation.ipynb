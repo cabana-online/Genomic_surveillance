{
 "cells": [
  {
   "cell_type": "markdown",
   "metadata": {},
   "source": [
    "# Módule 5: Genome annotation\n",
    "\n",
    "## Overview \n",
    "\n",
    "Genome annotation is the process of identifying and labeling all the relevant features on a genome sequence. At minimum, this should include coordinates of predicted coding regions and their putative products, but it is desirable to go beyond this to non-coding RNAs, signal peptides and so on.\n",
    "\n",
    "*Further reading*: https://academic.oup.com/bioinformatics/article/30/14/2068/2390517\n"
   ]
  },
  {
   "cell_type": "markdown",
   "metadata": {},
   "source": [
    "### Install condacolab"
   ]
  },
  {
   "cell_type": "code",
   "execution_count": null,
   "metadata": {},
   "outputs": [],
   "source": [
    "!pip install -q condacolab\n",
    "import condacolab\n",
    "condacolab.install()"
   ]
  },
  {
   "cell_type": "markdown",
   "metadata": {},
   "source": [
    "### Install software"
   ]
  },
  {
   "cell_type": "code",
   "execution_count": null,
   "metadata": {},
   "outputs": [],
   "source": [
    "# Install Prokka\n",
    "!conda install -c conda-forge -c bioconda -c defaults prokka"
   ]
  },
  {
   "cell_type": "code",
   "execution_count": null,
   "metadata": {},
   "outputs": [],
   "source": [
    "# Check if Prokka is installed\n",
    "!prokka --version"
   ]
  },
  {
   "cell_type": "markdown",
   "metadata": {},
   "source": [
    "### Download data"
   ]
  },
  {
   "cell_type": "code",
   "execution_count": null,
   "metadata": {},
   "outputs": [],
   "source": [
    "!wget"
   ]
  },
  {
   "cell_type": "markdown",
   "metadata": {},
   "source": [
    "## Genome annotation \n",
    "\n",
    "We will use a software tool called [Prokka](https://github.com/tseemann/prokka) to annotate the draft genome sequence produced after running SPAdes. Prokka is a “wrapper”; it collects together several pieces of software (from various authors), and so avoids “re-inventing the wheel”.\n",
    "\n",
    "[Prokka](https://github.com/tseemann/prokka) finds and annotates features (both protein coding regions and RNA genes, i.e. tRNA, rRNA) present on on a sequence. Note, Prokka uses a two-step process for the annotation of protein coding regions: first, protein coding regions on the genome are identified using Prodigal; second, the function of the encoded protein is predicted by similarity to proteins in one of many protein or protein domain databases. Prokka is a software tool that can be used to annotate bacterial, archaeal and viral genomes quickly, generating standard output files in GenBank, EMBL and gff formats. \n",
    "\n",
    "Run the command to download the prokka image from docker repository"
   ]
  },
  {
   "cell_type": "code",
   "execution_count": null,
   "metadata": {},
   "outputs": [],
   "source": [
    "# Run Prokka\n",
    "!prokka contigs.fasta"
   ]
  },
  {
   "cell_type": "markdown",
   "metadata": {},
   "source": [
    "An explanation of this command is as follows:\n",
    "\n",
    "**prokka**: is the tool\n",
    "\n",
    "**contigs.fa**: input file (this file is the output from SPAdes)"
   ]
  },
  {
   "cell_type": "markdown",
   "metadata": {},
   "source": [
    "Once Prokka has finished, a new folder containing Prokka output will be present in your working directory.Examine each of its output files.\n",
    "\n",
    "- The GFF and GBK files contain all of the information about the features annotated (in different formats.)\n",
    "- The .txt file contains a summary of the number of features annotated.\n",
    "- The .faa file contains the protein sequences of the genes annotated.\n",
    "- The .ffn file contains the nucleotide sequences of the genes annotated."
   ]
  },
  {
   "cell_type": "markdown",
   "metadata": {},
   "source": [
    "## Viewing genome annotation in IGV \n",
    "\n",
    "You will require the following files to view genome annotation in IGV:\n",
    "\n",
    "1. Reference genome which will be the fna output of Prokka. This sequence will be the reference against which annotations are displayed\n",
    "2. gff file which is an output of Prokka\n",
    "\n",
    "Launch IGV using methods outlines in the section [Data, Tools and Computational Platforms (IGV)]\n",
    "\n",
    "Load the reference sequence: In the toolbar, Click Genome > Load Genome from file > Search and select PROKKA_12252022.fna (as an example)\n",
    "\n",
    "Load the gff file: Go to File > Load from file > PROKKA_12252022.gff (as an example)"
   ]
  },
  {
   "cell_type": "markdown",
   "metadata": {},
   "source": [
    "___"
   ]
  }
 ],
 "metadata": {
  "language_info": {
   "name": "python"
  }
 },
 "nbformat": 4,
 "nbformat_minor": 2
}
