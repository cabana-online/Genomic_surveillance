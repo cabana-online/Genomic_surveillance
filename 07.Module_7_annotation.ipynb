{
 "cells": [
  {
   "cell_type": "markdown",
   "metadata": {},
   "source": [
    "# Módule 7: Genome annotation\n",
    "\n",
    "## Overview \n",
    "\n",
    "Genome annotation is the process of identifying and labeling all the relevant features on a genome sequence. At minimum, this should include coordinates of predicted coding regions and their putative products, but it is desirable to go beyond this to non-coding RNAs, signal peptides and so on.\n",
    "\n",
    "*Further reading*: https://academic.oup.com/bioinformatics/article/30/14/2068/2390517\n"
   ]
  },
  {
   "cell_type": "markdown",
   "metadata": {},
   "source": [
    "### Install condacolab"
   ]
  },
  {
   "cell_type": "code",
   "execution_count": null,
   "metadata": {},
   "outputs": [],
   "source": [
    "!pip install -q condacolab\n",
    "import condacolab\n",
    "condacolab.install()"
   ]
  },
  {
   "cell_type": "markdown",
   "metadata": {},
   "source": [
    "### Install software"
   ]
  },
  {
   "cell_type": "code",
   "execution_count": null,
   "metadata": {},
   "outputs": [],
   "source": [
    "# Install Prokka\n",
    "!conda install -c conda-forge -c bioconda -c defaults prokka"
   ]
  },
  {
   "cell_type": "code",
   "execution_count": null,
   "metadata": {},
   "outputs": [],
   "source": [
    "# Check if Prokka is installed\n",
    "!prokka --version"
   ]
  },
  {
   "cell_type": "markdown",
   "metadata": {},
   "source": [
    "[IGV (Integrative Genomics Viewer)](https://igv.org/doc/desktop/#) is a software developed for the visual exploration of genomic data. This program has both a desktop and a web version. In this tutorial, we will use the desktop version, available for any operating system, and it can be downloaded [here](https://igv.org/doc/desktop/#DownloadPage/).\n",
    "\n",
    "For more information about the software, you can find helpful tutorial videos [here](https://igv.org/doc/desktop/#TutorialVideos/)."
   ]
  },
  {
   "cell_type": "markdown",
   "metadata": {},
   "source": [
    "### Download data"
   ]
  },
  {
   "cell_type": "code",
   "execution_count": null,
   "metadata": {},
   "outputs": [],
   "source": [
    "!wget https://zenodo.org/records/13750987/files/Module_7.tar.gz"
   ]
  },
  {
   "cell_type": "markdown",
   "metadata": {},
   "source": [
    "### Extract the .tar.gz file "
   ]
  },
  {
   "cell_type": "code",
   "execution_count": null,
   "metadata": {},
   "outputs": [],
   "source": [
    "!tar xvf Module_7.tar.gz"
   ]
  },
  {
   "cell_type": "markdown",
   "metadata": {},
   "source": [
    "## Genome annotation \n",
    "\n",
    "We will use a software tool called [Prokka](https://github.com/tseemann/prokka) to annotate the draft genome sequence produced after running SPAdes. Prokka is a “wrapper”; it collects together several pieces of software (from various authors), and so avoids “re-inventing the wheel”.\n",
    "\n",
    "[Prokka](https://github.com/tseemann/prokka) finds and annotates features (both protein coding regions and RNA genes, i.e. tRNA, rRNA) present on on a sequence. Note, Prokka uses a two-step process for the annotation of protein coding regions: first, protein coding regions on the genome are identified using Prodigal; second, the function of the encoded protein is predicted by similarity to proteins in one of many protein or protein domain databases. Prokka is a software tool that can be used to annotate bacterial, archaeal and viral genomes quickly, generating standard output files in GenBank, EMBL and gff formats. \n",
    "\n",
    "Run the command to execute Prokka:"
   ]
  },
  {
   "cell_type": "code",
   "execution_count": null,
   "metadata": {},
   "outputs": [],
   "source": [
    "%cd Module_7/spades_assembly/"
   ]
  },
  {
   "cell_type": "code",
   "execution_count": null,
   "metadata": {},
   "outputs": [],
   "source": [
    "# Run Prokka\n",
    "!prokka contigs.fasta"
   ]
  },
  {
   "cell_type": "markdown",
   "metadata": {},
   "source": [
    "An explanation of this command is as follows:\n",
    "\n",
    "`prokka`: is the tool\n",
    "\n",
    "`contigs.fa`: input file (this file is the output from SPAdes)"
   ]
  },
  {
   "cell_type": "markdown",
   "metadata": {},
   "source": [
    "Once Prokka has finished, a new folder containing Prokka output will be present in your working directory.Examine each of its output files.\n",
    "\n",
    "- The GFF and GBK files contain all of the information about the features annotated (in different formats.)\n",
    "- The .txt file contains a summary of the number of features annotated.\n",
    "- The .faa file contains the protein sequences of the genes annotated.\n",
    "- The .ffn file contains the nucleotide sequences of the genes annotated."
   ]
  },
  {
   "cell_type": "markdown",
   "metadata": {},
   "source": [
    "## Viewing genome annotation in IGV \n",
    "\n",
    "You will require the following files to view genome annotation in IGV:\n",
    "\n",
    "1. Reference genome which will be the fna output of Prokka. This sequence will be the reference against which annotations are displayed\n",
    "2. gff file which is an output of Prokka\n",
    "\n",
    "To download the necessary files to your computer, go to the left side of Colab, locate the file, right-click, and then click \"Download\".\n",
    "\n",
    "Here is an example:\n",
    "\n",
    "![igv](images/igv.png)\n",
    "\n",
    "Launch IGV Desktop.\n",
    "\n",
    "Load the reference sequence: in the toolbar, click Genome > Load Genome from File > Browse and select PROKKA_08082024.fna (as an example).\n",
    "\n",
    "Load the gff file: Go to File > Load from File > PROKKA_08082024.gff (as an example)."
   ]
  },
  {
   "cell_type": "markdown",
   "metadata": {},
   "source": [
    "*Adapted from:*\n",
    "\n",
    "- Advanced Bioinformatics Course developed for the GPS and JUNO projects - Wellcome Sanger Insitute\n",
    "\n",
    "*Modified by Luisa Sacristán (Universidad de los Andes-CABANA)*"
   ]
  }
 ],
 "metadata": {
  "language_info": {
   "name": "python"
  }
 },
 "nbformat": 4,
 "nbformat_minor": 2
}
