{
 "cells": [
  {
   "cell_type": "markdown",
   "metadata": {},
   "source": [
    "# Module 6: *De novo* genome assembly and quality control\n",
    "\n",
    "## Overview\n",
    "\n",
    "After generating sequencing reads and carrying out quality assessment, the next step is to determine how the reads fit together by looking for overlaps between them; this process is called genome assembly. Here you can see the general steps in a genome assembly workflow. *Steps 1 and 2 have already been completed.*\n",
    "\n",
    "\n",
    "![steps](images/assem.jpg)\n",
    "\n",
    "*Taken from: https://www.ncbi.nlm.nih.gov/pmc/articles/PMC5850084/*\n",
    "\n",
    "The data from the Illumina machine comes as relatively short stretches (35 - 150 base pairs) of DNA – around 6 billion of them. These individual sequences are called sequencing reads. There are a range of assembly programs that have been specifically designed to assemble genomes from sequence reads data. Genome assembly using sequence reads of around 100bp is complicated due to the high frequency of repeats longer than the sequence read length in genomes, for example: IS elements, rRNA operons; and the massive amount of data the programs have to handle. In addition to finding overlaps in the sequence, the assembly programs can also use information from the predicted insert size where paired reads are used, to link and position reads in an assembly.\n",
    "\n",
    "Where a genome is pieced together without any reference sequence to compare it to, or scaffold it against, it is termed a *de novo* assembly. *De novo* assembly may not produce complete genomes, but will be fragmented into multiple contiguous sequences (contigs), the order of which is arbitrary, and does not necessarily bear not any relation to their real order in the genome.\n",
    "\n",
    "Where a closely related reference sequence is available, it is possible to improve an assembly by ordering the contigs in comparison to the reference, and also transferring annotation. In this case, nearly all of the genome will be present, i.e. genes and features, but there will be some regions that will contain gaps, or contigs that will not be accurately placed, because they are not present in the reference used. Although technically incomplete, ordered genome assemblies can provide valuable insights into the genetics and biology of an organism.\n",
    "\n",
    "![denovo](images/denovo.jpg)\n",
    "\n",
    "*Taken from: https://doi.org/10.1038/nmeth.1935*\n"
   ]
  },
  {
   "cell_type": "markdown",
   "metadata": {},
   "source": [
    "### Install condacolab"
   ]
  },
  {
   "cell_type": "code",
   "execution_count": null,
   "metadata": {},
   "outputs": [],
   "source": [
    "!pip install -q condacolab\n",
    "import condacolab\n",
    "condacolab.install()"
   ]
  },
  {
   "cell_type": "markdown",
   "metadata": {},
   "source": [
    "### Install software"
   ]
  },
  {
   "cell_type": "code",
   "execution_count": null,
   "metadata": {},
   "outputs": [],
   "source": [
    "# Install SPAdes, QUAST and seqtk\n",
    "!conda install bioconda::spades\n",
    "!conda install bioconda::quast\n",
    "!conda install bioconda::seqtk\n"
   ]
  },
  {
   "cell_type": "code",
   "execution_count": null,
   "metadata": {},
   "outputs": [],
   "source": [
    "# Check if SPAdes is installed\n",
    "!spades.py --help"
   ]
  },
  {
   "cell_type": "code",
   "execution_count": null,
   "metadata": {},
   "outputs": [],
   "source": [
    "# Check if QUAST is installed\n",
    "!quast.py --help"
   ]
  },
  {
   "cell_type": "code",
   "execution_count": null,
   "metadata": {},
   "outputs": [],
   "source": [
    "# CHeck if seqtk is installed\n",
    "!seqtk seq -h"
   ]
  },
  {
   "cell_type": "markdown",
   "metadata": {},
   "source": [
    "### Download data"
   ]
  },
  {
   "cell_type": "code",
   "execution_count": null,
   "metadata": {},
   "outputs": [],
   "source": [
    "!wget https://zenodo.org/records/13750987/files/Module_6.tar.gz"
   ]
  },
  {
   "cell_type": "markdown",
   "metadata": {},
   "source": [
    "### Extract the .tar.gz file "
   ]
  },
  {
   "cell_type": "code",
   "execution_count": null,
   "metadata": {},
   "outputs": [],
   "source": [
    "!tar xvf Module_6.tar.gz"
   ]
  },
  {
   "cell_type": "markdown",
   "metadata": {},
   "source": [
    "## Part 1: Generating a *de novo* assembly for a single strain\n",
    "\n",
    "In this section we will use [SPAdes](https://github.com/ablab/spades) which is one of a number of de novo assemblers that use short read sets as input (e.g. Illumina Reads), and the assembly method is based on de Bruijn graphs.\n",
    "\n",
    "We will assemble the genome of *Streptococcus pneumoniae*\n",
    "\n",
    "We will navigate to the folder containing the paired FASTQ files ERR1795461_1.fastq.gz and ERR1795461_2.fastq.gz, which correspond to the run accession ERR1795461 from the project [PRJEB3084](https://www.ebi.ac.uk/ena/browser/view/PRJEB3084).\n",
    "\n",
    "Some important data about the sample:\n",
    "\n",
    "- Country of origin: Brasil\n",
    "- Organism: *Streptococcus pneumoniae*\n",
    "- Instrument Platform: ILLUMINA\n",
    "- Instrument Model: Illumina MiSeq\n",
    "- Read Count: 3627822\n",
    "- Base Count: 453477750\n",
    "- Center Name: Wellcome Sanger Institute; SC\n",
    "- Library Layaout: PAIRED\n",
    "- Library strategy: WGS"
   ]
  },
  {
   "cell_type": "code",
   "execution_count": null,
   "metadata": {},
   "outputs": [],
   "source": [
    "%cd Module_6"
   ]
  },
  {
   "cell_type": "markdown",
   "metadata": {},
   "source": [
    "Now we are going to generate a subsample of each sequencing file, given that they are large files and the complete assembly could take a long time. However, it is important to remember that ideally, the analysis should be performed with all the reads."
   ]
  },
  {
   "cell_type": "code",
   "execution_count": null,
   "metadata": {},
   "outputs": [],
   "source": [
    "# Subsample the data\n",
    "!seqtk sample -s100 ERR1795461_1.fastq.gz 100000 > ERR1795461_1_sub.fastq"
   ]
  },
  {
   "cell_type": "code",
   "execution_count": null,
   "metadata": {},
   "outputs": [],
   "source": [
    "# Subsample the data\n",
    "!seqtk sample -s100 ERR1795461_2.fastq.gz 100000 > ERR1795461_2_sub.fastq"
   ]
  },
  {
   "cell_type": "code",
   "execution_count": null,
   "metadata": {},
   "outputs": [],
   "source": [
    "# Compress the subsampled data\n",
    "!gzip ERR1795461_1_sub.fastq ERR1795461_2_sub.fastq"
   ]
  },
  {
   "cell_type": "markdown",
   "metadata": {},
   "source": [
    "Run the command in the terminal to execute SPAdes:\n",
    "\n",
    "This step will take a few minutes."
   ]
  },
  {
   "cell_type": "code",
   "execution_count": null,
   "metadata": {},
   "outputs": [],
   "source": [
    "# Run SPAdes\n",
    "!spades.py -1 ERR1795461_1_sub.fastq.gz -2 ERR1795461_2_sub.fastq.gz --careful --cov-cutoff auto -o spades_assembly"
   ]
  },
  {
   "cell_type": "markdown",
   "metadata": {},
   "source": [
    "An explanation of this command is as follows:\n",
    "\n",
    "`spades.py` is the tool\n",
    "\n",
    "`-1` flag for the input file of forward reads\n",
    "\n",
    "`-2` flag for the input file of reverse reads\n",
    "\n",
    "`--careful` minimizes mismatches and short indels\n",
    "\n",
    "`--cov-cutoff auto` computes the coverage threshold (rather than the default setting, “off”)\n",
    "\n",
    "`-o` flag for the the output directory"
   ]
  },
  {
   "cell_type": "markdown",
   "metadata": {},
   "source": [
    "Move into the output directory (spades_assembly) and look at the contigs.fa file"
   ]
  },
  {
   "cell_type": "code",
   "execution_count": null,
   "metadata": {},
   "outputs": [],
   "source": [
    "# Change to the output directory\n",
    "%cd spades_assembly"
   ]
  },
  {
   "cell_type": "code",
   "execution_count": null,
   "metadata": {},
   "outputs": [],
   "source": [
    "# Check the report"
   ]
  },
  {
   "cell_type": "markdown",
   "metadata": {},
   "source": [
    "## Generating a *de novo* assembly for a multiple strains\n",
    "\n",
    "We can also assemble genomes of multiple strains.  \n",
    "\n",
    ">**Note**: In this module, we will not run the multiple assembly due to the lack of resources in Colab. However, here is an example of how to do it."
   ]
  },
  {
   "cell_type": "markdown",
   "metadata": {},
   "source": [
    "### First, we will first  create a folder for each pair of compressed fastq files and named after the strain id using the command:"
   ]
  },
  {
   "cell_type": "code",
   "execution_count": null,
   "metadata": {},
   "outputs": [],
   "source": [
    "# Do not run this cell\n",
    "# !for x in *1.fastq.gz; do mkdir ${x%%_1.fastq.gz} ; mv $x ${x%%_1.fastq.gz}; mv ${x%%1.fastq.gz}2.fastq.gz ${x%%_1.fastq.gz}; done"
   ]
  },
  {
   "cell_type": "markdown",
   "metadata": {},
   "source": [
    "An explanation of this command is as follows:\n",
    "\n",
    "`for x in *1.fastq.gz`; This starts a for loop that iterates over all files in the current directory that end with \"1.fastq.gz\".\n",
    "\n",
    "`do` This starts the code block that will be executed for each file.\n",
    "\n",
    "`mkdir ${x%%_1.fastq.gz}`This creates a new directory with the same name as the file, but with the \"_1.fastq.gz\" suffix removed.\n",
    "\n",
    "`mv $x ${x%%_1.fastq.gz}` This moves the original file into the new directory created in the previous step.\n",
    "\n",
    "`mv \"${x%%1.fastq.gz}2.fastq.gz\" \"${x%%_1.fastq.gz}\"` This moves a second file that has the same prefix as the first file, but with a \"2.fastq.gz\" suffix, into the new directory created in the first step.\n",
    "\n",
    "`done` This ends the for loop.\n",
    "\n",
    "Overall, this script is designed to take paired-end sequencing data that is stored in two separate files with names that end in **\"_1.fastq.gz\"** and **\"_2.fastq.gz\"**, and organize it into directories based on the prefix of the file name"
   ]
  },
  {
   "cell_type": "markdown",
   "metadata": {},
   "source": [
    "### We will then execute SPAdes using the command:\n",
    "\n",
    ">**Note**: In this module, we will not run the multiple assembly due to the lack of resources in Colab. However, here is an example of how to do it."
   ]
  },
  {
   "cell_type": "code",
   "execution_count": null,
   "metadata": {},
   "outputs": [],
   "source": [
    "# Do not run this cell\n",
    "#!for x in *#* ; do spades.py --pe1-1 $x/${x}_1.fastq.gz --pe1-2 $x/${x}_2.fastq.gz --careful --cov-cutoff auto -o $x\"_output\"; done"
   ]
  },
  {
   "cell_type": "markdown",
   "metadata": {},
   "source": [
    "An explanation of this command is as follows:\n",
    "\n",
    "`for x in *` This starts a loop that iterates over all directories in the current working directory. The loop variable x will be set to each directory name in turn.\n",
    "\n",
    "`do` This keyword starts the block of commands that will be executed for each iteration of the loop.\n",
    "\n",
    "`spades.py` This is the  run command that starts the SPAdes software\n",
    "\n",
    "`--pe1-1 $x/${x}_1.fastq.gz` This specifies the path to the first paired-end read file for SPAdes. The variable $x is used to reference the current directory name, and ${x}_1.fastq.gz is appended to create the full file name.\n",
    "\n",
    "`--pe1-2 $x/${x}_2.fastq.gz` This specifies the path to the second paired-end read file for SPAdes. The same directory name variable $x is used as above, but with ${x}_2.fastq.gz appended to create the full file name for the second read file.\n",
    "\n",
    "`--careful` This tells SPAdes to use a more conservative algorithm for error correction.\n",
    "\n",
    "`--cov-cutoff` auto This tells SPAdes to automatically determine the coverage cutoff for filtering out low coverage contigs during the assembly.\n",
    "\n",
    "`-o $x\"_output\"`  This specifies the output directory for the SPAdes assembly. The directory name is created by appending \"_output\" to the current directory name $x.\n",
    "\n",
    "`;` This is the command separator that tells Bash to execute the previous command before moving on to the next one.\n",
    "\n",
    "`done` This keyword marks the end of the loop block."
   ]
  },
  {
   "cell_type": "markdown",
   "metadata": {},
   "source": [
    "___"
   ]
  },
  {
   "cell_type": "markdown",
   "metadata": {},
   "source": [
    "# Part 2: Quality Assessment for Genome Assemblies\n",
    "\n",
    "Modern DNA sequencing technologies cannot produce the complete sequence of a chromosome. Instead, they generate large numbers of reads, ranging from dozens to thousands of consecutive bases, sampled from different parts of the genome. Genome assembly software combines the reads into larger regions called contigs. However, current sequencing technologies and software face many complications that impede reconstruction of full chromosomes, including errors in reads and large repeats in the genome.\n",
    "\n",
    "Different assembly programs use different heuristic approaches to tackle these challenges, resulting in many differences in the contigs they output. This leads to the questions of how to assess the quality of an assembly and how to compare different assemblies.\n",
    "\n",
    "Further reading: https://academic.oup.com/bioinformatics/article/29/8/1072/228832"
   ]
  },
  {
   "cell_type": "markdown",
   "metadata": {},
   "source": [
    "## Assessing generated assemblies\n",
    "\n",
    "We will be using QUAST tool in this section.\n",
    "\n",
    "[QUAST](https://github.com/ablab/quast) stands for QUality ASsessment Tool. It evaluates genome/metagenome assemblies by computing various metrics. The current QUAST toolkit includes the general QUAST tool for genome assemblies, MetaQUAST, the extension for metagenomic datasets, QUAST-LG, the extension for large genomes (e.g., mammalians), and Icarus, the interactive visualizer for these tools.\n",
    "\n",
    "The QUAST package works both with and without reference genomes. However, it is much more informative if at least a close reference genome is provided along with the assemblies. The tool accepts multiple assemblies, thus is suitable for comparison.\n",
    "\n",
    "We will assess the quality of ERR1795461_1.fastq.gz y ERR1795461_1.fastq.qz  **COMPLETE** contigs generated from *De novo* assembly described in the previous page. It is important to note that the subsample will not be analyzed, but rather a complete assembly previously performed.\n",
    "\n",
    "For this, go to the folder ERR1795461_spades_complete."
   ]
  },
  {
   "cell_type": "code",
   "execution_count": null,
   "metadata": {},
   "outputs": [],
   "source": [
    "%cd .."
   ]
  },
  {
   "cell_type": "markdown",
   "metadata": {},
   "source": [
    "We will run the QUAST tool on these contigs using the command:"
   ]
  },
  {
   "cell_type": "code",
   "execution_count": null,
   "metadata": {},
   "outputs": [],
   "source": [
    "!quast.py ERR1795461_spades_complete/contigs.fasta -r Reference_sequence_GPSC46.fa -g PROKKA_03052023.gff -1 ERR1795461_1.fastq.gz -2 ERR1795461_2.fastq.qz -o quast_ERR1795461_output"
   ]
  },
  {
   "cell_type": "markdown",
   "metadata": {},
   "source": [
    "An explanation of this command is as follows:\n",
    "\n",
    "`quast.py` is the tool\n",
    "\n",
    "`-r Reference_sequence_GPSC46.fa` specifies the reference sequence\n",
    "\n",
    "`-g PROKKA_03052023.gff` specifies gene in the reference genome (PROKKA output of Reference_sequence_GPSC46.fa)\n",
    "\n",
    "`-1 ERR1795461_1.fastq.gz` input file of forward reads\n",
    "\n",
    "`-2 ERR1795461_2.fastq.gz` input file of reverse reads\n",
    "\n",
    "`-o quast_ERR1795461_output` specifies the output folder"
   ]
  },
  {
   "cell_type": "markdown",
   "metadata": {},
   "source": [
    "When QUAST is complete, it will print the following message on your terminal screen:"
   ]
  },
  {
   "cell_type": "markdown",
   "metadata": {},
   "source": [
    "Navigate to the output folder `\"quast_ERR1795461_sub_output\"` using `%cd` command and explore its contents. A description of the output files are as follows:\n",
    "\n",
    "`report.txt` tab-separated version of the summary, suitable for spreadsheets (Google Docs, Excel, etc)\n",
    "\n",
    "`report.tex` LaTeX version of the summary\n",
    "\n",
    "`icarus.html` Icarus main menu with links to interactive viewers.\n",
    "\n",
    "`report.pdf` all other plots combined with all tables (file is created if matplotlib python library is installed)\n",
    "\n",
    "`report.html` HTML version of the report with interactive plots inside\n",
    "\n",
    "`contigs_reports/` (only if a reference genome is provided)\n",
    "\n",
    "`misassemblies_report` detailed report on misassemblies\n",
    "\n",
    "`unaligned_report` detailed report on unaligned and partially unaligned contigs\n",
    "\n",
    "`k_mer_stats` (only if --k-mer-stats option is specified)\n",
    "\n",
    "`kmers_report` detailed report on k-mer-based metrics\n",
    "\n",
    "`reads_stats/` (only if reads are provided)\n",
    "\n",
    "`reads_report` detailed report on mapped reads statistics."
   ]
  },
  {
   "cell_type": "markdown",
   "metadata": {},
   "source": [
    "## Interpretation\n",
    "\n",
    "### Metric description \n",
    "\n",
    "#### 1. Summary report - based on the report.txt file in the output folder\n",
    "\n",
    "`# contigs` is the total number of contigs in the assembly.\n",
    "\n",
    "`Largest contig` is the length of the longest contig in the assembly.\n",
    "\n",
    "`Total length` is the total number of bases in the assembly.\n",
    "\n",
    "`Reference length` is the total number of bases in the reference genome.\n",
    "\n",
    "`GC (%)` is the total number of G and C nucleotides in the assembly, divided by the total length of the assembly.\n",
    "\n",
    "`Reference GC (%)` is the percentage of G and C nucleotides in the reference genome.\n",
    "\n",
    "`N50` is the length for which the collection of all contigs of that length or longer covers at least half an assembly.\n",
    "\n",
    "`NG50` is the length for which the collection of all contigs of that length or longer covers at least half the reference genome (This metric is computed only if the reference genome is provided.)\n",
    "\n",
    "`Nx and NGx` (for x between 0 and 100) are defined similarly to N50 but with x % instead of 50 %. The value of  x  is set with --x-for-Nx (90 by default).\n",
    "\n",
    "`L50 (Lx, LG50, LGx)` is the number of contigs equal to or longer than N50 (Nx, NG50, NGx)\n",
    "\n",
    "In other words, L50, for example, is the minimal number of contigs that cover half the assembly.\n",
    "\n",
    "`# misassemblies` is the number of positions in the contigs (breakpoints) that satisfy one of the following criteria:\n",
    "\n",
    "- the left flanking sequence aligns over 1 kbp away from the right flanking sequence on the reference;\n",
    "- flanking sequences overlap on more than 1 kbp;\n",
    "- flanking sequences align to different strands or different chromosomes;\n",
    "- flanking sequences align on different reference genomes (MetaQUAST only).\n",
    "\n",
    "*This metric requires a reference genome.*\n",
    "\n",
    "`# misassembled contigs` is the number of contigs that contain misassembly events \n",
    "\n",
    "`Misassembled contigs length` is the total number of bases in misassembled contigs.\n",
    "\n",
    "`# local misassemblies` is the number of positions in the contigs (breakpoints) that satisfy the following conditions:\n",
    "\n",
    "1. The gap or overlap between left and right flanking sequences is less than 1 kbp, and larger than 200 bp (the maximum indel length).\n",
    "2. The left and right flanking sequences both are on the same strand of the same chromosome of the reference genome.\n",
    "\n",
    "`# scaffold gap ext. mis.` is the number of positions in the scaffolds (breakpoints) where the flanking sequences are combined in the scaffold on the wrong distance (sufficient for reporting extensive misassembly). \n",
    "\n",
    "`# structural variations` is the number of misassemblies matched with structural variations of genome (if reads or BEDPE file with SV are provided, see --reads1/reads2 and --sv-bedpe).\n",
    "\n",
    "`# unaligned mis. contigs` is the number of contigs that have the number of unaligned bases more than 50% of contig length and at least one misassembly event in their aligned fragment. Such contigs are probably not related to the reference genome, thus their misassemblies may be not real errors but differences between the assembled organism and the reference.\n",
    "\n",
    "``#` unaligned contigs` is the number of contigs that have no alignment to the reference sequence. The value \"X + Y part\" means X totally unaligned contigs plus Y partially unaligned contigs. This metric sums up # unaligned mis. contigs described above.\n",
    "\n",
    "`Unaligned length` is the total length of all unaligned regions in the assembly (sum of lengths of fully unaligned contigs and unaligned parts of partially unaligned ones). This length does not include uncalled bases (N's) in the assembly.\n",
    "\n",
    "`Genome fraction (%)` is the percentage of aligned bases in the reference genome. A base in the reference genome is aligned if there is at least one contig with at least one alignment to this base. \n",
    "\n",
    "`Duplication ratio` is the total number of aligned bases in the assembly divided by the total number of aligned bases in the reference genome. If the assembly contains many contigs that cover the same regions of the reference, its duplication ratio may be much larger than 1. This may occur due to overestimating repeat multiplicities and due to small overlaps between contigs, among other reasons. \n",
    "\n",
    "`# N's per 100 kbp` is the average number of uncalled bases (N's) per 100,000 assembly bases.\n",
    "\n",
    "`# mismatches per 100 kbp` is the average number of mismatches per 100,000 aligned bases in the assembly. True SNPs and sequencing errors are not distinguished and are counted equally.\n",
    "\n",
    "`# indels per 100 kbp` is the average number of indels per 100,000 aligned bases in the assembly. Several consecutive single nucleotide indels are counted as one indel.\n",
    "\n",
    "`# genomic features` is the number of genomic features (genes, CDS, etc) in the assembly (complete and partial), based on a user-provided list of genomic features positions in the reference genome. A feature is 'partially covered' if the assembly contains at least 100 bp of this feature but not the whole one.\n",
    "\n",
    "`Total aligned length` is the total number of aligned bases in the assembly. A value is usually smaller than a value of total length because some of the contigs may be unaligned or partially unaligned.\n",
    "\n",
    "`Largest alignment` is the length of the largest continuous alignment in the assembly. A value can be smaller than a value of largest contig if the largest contig is misassembled or partially unaligned.\n",
    "\n",
    "`NA50, NGA50, NAx, NGAx, LA50, LAx, LGA50, LGAx (\"A\" stands for \"aligned\")` are similar to the corresponding metrics without \"A\", but in this case aligned blocks instead of contigs are considered. Aligned blocks are obtained by breaking contigs at misassembly events and removing all unaligned bases."
   ]
  },
  {
   "cell_type": "markdown",
   "metadata": {},
   "source": [
    "#### 2. Summary report - plot description (based on icarus.html)\n",
    "\n",
    "[Icarus](https://quast.sourceforge.net/icarus) generates contig size viewer and one or more contig alignment viewers (if reference genome/genomes are provided). All of them are located in output folder \"quast_ 17150_4#79_output/icarus_viewers/\". The links to the viewers and other auxiliary information are provided in Icarus main menu which is saved in \"quast_ 17150_4#79_output/icarus.html\". All Icarus viewers contain a legend with color scheme description. For moving and zooming interactive window you can use mouse, Icarus controls (top panel) or keyboard shortcuts (+, -, ←, →, use Shift to speed up the action).\n",
    "\n",
    "**Step 1: Open the icarus.html**\n",
    "\n",
    "**Step 2: Click on contain size viewer**\n",
    "\n",
    "This type of viewer draws contigs ordered from longest to shortest. This ordering is suitable for comparing only largest contigs or number of contigs longer than a specific threshold. The viewer shows [N50](https://quast.sourceforge.net/docs/manual.html#N50) and [Nx](https://quast.sourceforge.net/docs/manual.html#Nx) (for user-defined x value) with color and textual indication. If the reference genome is available or at least approximate genome length is known, [NG50](https://quast.sourceforge.net/docs/manual.html#NG50) and [NGx](https://quast.sourceforge.net/docs/manual.html#Nx) are also shown. You can also tone down contigs shorter than a specified threshold using Icarus control panel.\n",
    "\n",
    "**Step 3: Click on QUAST report in the main menu**\n",
    "\n",
    "**Step 4: Click on contig alignment viewer in the main menu to view contigs aligned to reference sequence** \n",
    "\n",
    "This type of viewer is available only if a reference genome is provided. For large genomes (≥ 50 Mbp) each chromosome is displayed in a separate viewer. The viewer places contigs according to their mapping to the reference genome. The viewer can additionally visualize genes, operons, and read coverage distribution along the genome, if any of those were fed to QUAST."
   ]
  },
  {
   "cell_type": "markdown",
   "metadata": {},
   "source": [
    "**Further reading**\n",
    "\n",
    "https://quast.sourceforge.net/docs/manual.html#sec3.4 \n",
    "\n",
    "https://github.com/ablab/quast\n",
    "\n",
    "https://academic.oup.com/bioinformatics/article/29/8/1072/228832\n"
   ]
  },
  {
   "cell_type": "markdown",
   "metadata": {},
   "source": [
    "## BONUS!\n",
    "\n",
    "If you are working with BASH in your computer or in a HPC and you have too many files you can optimize commands, loops are very useful for large datasets.\n",
    "\n",
    "Here's a way to do it. \n",
    "\n",
    "Create a new bash script using nano named `assemblies.sh`"
   ]
  },
  {
   "cell_type": "code",
   "execution_count": null,
   "metadata": {},
   "outputs": [],
   "source": [
    "# Dont run this cell\n",
    "# create a script to run the trimming\n",
    "!nano assemblies.sh"
   ]
  },
  {
   "cell_type": "markdown",
   "metadata": {},
   "source": [
    "Then copy and paste the following scrip in your new file:"
   ]
  },
  {
   "cell_type": "code",
   "execution_count": null,
   "metadata": {},
   "outputs": [],
   "source": [
    "#!/bin/bash\n",
    "#Autor: Nathalia Portilla\n",
    "\n",
    "for i in $(ls *_1.trimmed.fastq.gz); do\n",
    "NAME=$(basename $i _1.trimmed.fastq.gz)\n",
    "echo \"$NAME\"\n",
    "j=\"${NAME}_1.trimmed.fastq.gz\"\n",
    "echo \"$j\"\n",
    "k=\"${NAME}_2.trimmed.fastq.gz\"\n",
    "echo \"$k\"\n",
    "spades.py -1 $j -2 $k -t 16 --careful --cov-cutoff auto -o ${NAME};\n",
    "done"
   ]
  },
  {
   "cell_type": "markdown",
   "metadata": {},
   "source": [
    "Save the file.\n",
    "\n",
    "Finally, you can execute it:"
   ]
  },
  {
   "cell_type": "code",
   "execution_count": null,
   "metadata": {},
   "outputs": [],
   "source": [
    "# Dont run this cell\n",
    "!bash assemblies.sh"
   ]
  },
  {
   "cell_type": "markdown",
   "metadata": {},
   "source": [
    "*Adapted from:*\n",
    "\n",
    "- Advanced Bioinformatics Course developed for the GPS and JUNO projects - Wellcome Sanger Insitute\n",
    "\n",
    "*Modified by Luisa Sacristán (Universidad de los Andes-CABANA)*"
   ]
  }
 ],
 "metadata": {
  "language_info": {
   "name": "python"
  }
 },
 "nbformat": 4,
 "nbformat_minor": 2
}
