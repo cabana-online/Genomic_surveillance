{
 "cells": [
  {
   "cell_type": "markdown",
   "metadata": {},
   "source": [
    "# Module 6: Serotyping *Streptococcus pneumoniae* y *Streptococcus agalactiae* \n",
    "\n",
    "## Overview\n",
    "\n",
    "# This module will be developed in two parts:\n",
    "\n",
    "1. Part 1: Predicting serotypes of *S. pneumoniae*\n",
    "\n",
    "2. Part 2: Predicting serotypes of *S. agalactiae*"
   ]
  },
  {
   "cell_type": "markdown",
   "metadata": {},
   "source": [
    "### Install condacolab"
   ]
  },
  {
   "cell_type": "code",
   "execution_count": null,
   "metadata": {},
   "outputs": [],
   "source": [
    "!pip install -q condacolab\n",
    "import condacolab\n",
    "condacolab.install()"
   ]
  },
  {
   "cell_type": "markdown",
   "metadata": {},
   "source": [
    "### Install software"
   ]
  },
  {
   "cell_type": "code",
   "execution_count": null,
   "metadata": {},
   "outputs": [],
   "source": [
    "# Instalar seroBA\n",
    "!conda install -c bioconda seroba"
   ]
  },
  {
   "cell_type": "code",
   "execution_count": null,
   "metadata": {},
   "outputs": [],
   "source": [
    "# Instalar seroBA\n",
    "!conda install bioconda::srst2"
   ]
  },
  {
   "cell_type": "code",
   "execution_count": null,
   "metadata": {},
   "outputs": [],
   "source": [
    "# Compruebe si se seroBA se instaló correctamente\n",
    "!seroba --version"
   ]
  },
  {
   "cell_type": "markdown",
   "metadata": {},
   "source": [
    "### Download data"
   ]
  },
  {
   "cell_type": "code",
   "execution_count": null,
   "metadata": {},
   "outputs": [],
   "source": [
    "!wget"
   ]
  },
  {
   "cell_type": "markdown",
   "metadata": {},
   "source": [
    "## Part 1: Predicting *S. pneumoniae* serotypes\n",
    "\n",
    "To date, there are >100 known serotypes described for *S. pneumoniae* based on differing biochemical and antigenic properties of the capsule. There are a number of in-silico methods to detect the cps locus, which can then be used to predict serotypes from WGS data. Accurate identification of pneumococcal serotypes is important for tracking the distribution and evolution of serotypes following the introduction of effective vaccines.\n",
    "\n",
    "[SeroBA](https://github.com/sanger-pathogens/seroba?tab=readme-ov-file#installation) was developed and it makes efficient use of computational resources in addition to accurately detecting the cps locus at low coverage, and it predict serotypes from WGS data using a database adapted from PneumoCaT. SeroBA can predict serotypes, by identifying the cps locus, directly from raw whole genome sequencing read data with 98% concordance using a k-mer based method, can process 10,000 samples in just over 1 day using a standard server and can call serotypes at a coverage as low as 10x. SeroBA is implemented in Python3 and is freely available under an open source GPLv3.\n",
    "\n",
    "*Further reading*: https://www.ncbi.nlm.nih.gov/pmc/articles/PMC6113868/"
   ]
  },
  {
   "cell_type": "markdown",
   "metadata": {},
   "source": [
    "Explore usage of serobar by running ``seroba -h``"
   ]
  },
  {
   "cell_type": "code",
   "execution_count": null,
   "metadata": {},
   "outputs": [],
   "source": [
    "# Run seroBA\n",
    "!seroba -h"
   ]
  },
  {
   "cell_type": "markdown",
   "metadata": {},
   "source": [
    "SeroBA requires only three inputs: \n",
    "\n",
    "1. Database with kmc (utility designed for counting k-mers) and ariba (Antimicrobial Resistance Identification By Assembly) \n",
    "2. Forward and reverse sequence files in fastq\n",
    "3. Output prefix\n",
    "\n",
    "\n",
    "Download the [PneumoCaT](https://github.com/ukhsa-collaboration/PneumoCaT) database using the command: "
   ]
  },
  {
   "cell_type": "code",
   "execution_count": null,
   "metadata": {},
   "outputs": [],
   "source": [
    "# Download the PneumoCaT database\n",
    "!seroba getPneumocat PneumoCaT_dir"
   ]
  },
  {
   "cell_type": "markdown",
   "metadata": {},
   "source": [
    "This command downloads PneumoCat and build an tsv formatted meta data file out of it. However, for this module we will use seroba_k71_14082017  database as its upto date. "
   ]
  },
  {
   "cell_type": "markdown",
   "metadata": {},
   "source": [
    "### Step 1: To predict the serotype of a single strain (17150_4#79), we will use the command:"
   ]
  },
  {
   "cell_type": "code",
   "execution_count": null,
   "metadata": {},
   "outputs": [],
   "source": [
    "# Run seroBA\n",
    "!seroba runSerotyping seroba_k71_14082017 17150_4#79_1.fastq.gz 17150_4#79_2.fastq.gz 17150_4#79_output"
   ]
  },
  {
   "cell_type": "markdown",
   "metadata": {},
   "source": [
    "An explanation of this command is as follows:\n",
    "\n",
    "`seroba` is the tool/program\n",
    "\n",
    "`runSerotyping` specifies that program will perform serotyping \n",
    "\n",
    "`seroba_k71_14082017` specifies where the seroba directory\n",
    "\n",
    "`17150_4#79_1.fastq.gz` y `17150_4#79_2.fastq.gz` are the forward and reverse fastq files\n",
    "\n",
    "`17150_4#79_output` specifies the output prefix"
   ]
  },
  {
   "cell_type": "markdown",
   "metadata": {},
   "source": [
    "In the output folder,  you will find a **pred.tsv** including your predicted serotype."
   ]
  },
  {
   "cell_type": "markdown",
   "metadata": {},
   "source": [
    "### Step 2: To predict the serotype of multiple strains"
   ]
  },
  {
   "cell_type": "code",
   "execution_count": null,
   "metadata": {},
   "outputs": [],
   "source": [
    "# Move files\n",
    "for x in *1.fastq.gz; do mkdir ${x%%_1.fastq.gz} ; mv $x ${x%%_1.fastq.gz}; mv ${x%%1.fastq.gz}2.fastq.gz ${x%%_1.fastq.gz}; done"
   ]
  },
  {
   "cell_type": "markdown",
   "metadata": {},
   "source": [
    "An explanation of this command is as follows:\n",
    "\n",
    "`for x en 1.fastq.gz;` This starts a for loop that iterates over all files in the current directory that end with \"1.fastq.gz\".\n",
    "\n",
    "`do` This starts the code block that will be executed for each file.\n",
    "\n",
    "`mkdir ${x%%_1.fastq.gz}` This creates a new directory with the same name as the file, but with the \"_1.fastq.gz\" suffix removed.\n",
    "\n",
    "`mv $x ${x%%_1.fastq.gz}` This moves the original file into the new directory created in the previous step.\n",
    "\n",
    "`mv ${x%%1.fastq.gz}2.fastq.gz ${x%%_1.fastq.gz}` This moves a second file that has the same prefix as the first file, but with a \"2.fastq.gz\" suffix, into the new directory created in the first step.\n",
    "\n",
    "`done` This ends the for loop.\n",
    "\n",
    "Overall, this script is designed to take paired-end sequencing data that is stored in two separate files with names that end in \"_1.fastq.gz\" and \"_2.fastq.gz\", and organize it into directories based on the prefix of the file names. \n",
    "\n",
    "*Further reading on loop commands*: https://www.gnu.org/software/bash/manual/bash.html#Looping-Constructs"
   ]
  },
  {
   "cell_type": "markdown",
   "metadata": {},
   "source": [
    "we will then run seroBA using the command:"
   ]
  },
  {
   "cell_type": "code",
   "execution_count": null,
   "metadata": {},
   "outputs": [],
   "source": [
    "# Run seroBA for all samples\n",
    "for x in *#* ; do seroba runSerotyping seroba_k71_14082017 $x/${x}_1.fastq.gz $x/${x}_2.fastq.gz $x\"_output\"; done"
   ]
  },
  {
   "cell_type": "markdown",
   "metadata": {},
   "source": [
    "An explanation of this command is as follows:\n",
    "\n",
    "`for x in #;` This starts a for loop that iterates over all files in the current directory that contain the `#` character in their name.\n",
    "\n",
    "`do` This starts the code block that will be executed for each file.\n",
    "\n",
    "`seroba runSerotyping seroba_k71_14082017` This executes the command \"runSerotyping\" within the Docker container, using the \"seroba_k71_14082017\" database. \n",
    "\n",
    "`$x/${x}_1.fastq.gz $x/${x}_2.fastq.gz` These are the input files for the command, located in a directory named after the file (with the `#` character removed) and with \"_1.fastq.gz\" or \"_2.fastq.gz\" appended to the name.\n",
    "\n",
    "`$x\"_output\"` This is the output directory for the command, also named after the file (with \"_output\" appended to the name).\n",
    "\n",
    "`;` This separates the Docker command from the end of the for loop.\n",
    "\n",
    "`done` This ends the for loop.\n",
    "\n",
    "Overall, this script is designed to run a serotyping analysis on paired-end sequencing data that is stored in two separate files with names that contain the `#` character. The resulting output will be stored in directories with names that are based on the input file names"
   ]
  },
  {
   "cell_type": "markdown",
   "metadata": {},
   "source": [
    "### Step 3: We will then compile the results from the runs above using the command:\n",
    "\n",
    "This command will combine the seroba outputs in one tsv file. "
   ]
  },
  {
   "cell_type": "code",
   "execution_count": null,
   "metadata": {},
   "outputs": [],
   "source": [
    "# Summary of seroBA results\n",
    "!seroba summary ./"
   ]
  },
  {
   "cell_type": "markdown",
   "metadata": {},
   "source": [
    "___"
   ]
  },
  {
   "cell_type": "markdown",
   "metadata": {},
   "source": [
    "## Part 2: Predicting *S. agalactiae* serotypes \n",
    "\n",
    "*Streptococcus agalactiae* (Group B Streptococcus, or GBS) are currently divided into ten serotypes based on type-specific capsular antigens and are designated as Ia, Ib, II, III, IV, V, VI, VII, VIII, and IXs. \n",
    "\n",
    "Group B Streptococcus Serotyping by Genome Sequencing repository contains a curated reference file which can be used for serotyping *Streptococcus agalactiae* in silico with whole genome sequencing data. The reference file (GBS-SBG.fasta) is designed to be usable for both short-read mapping and assembly-based strategies.\n",
    "\n",
    "*Further reading*: https://github.com/swainechen/GBS-SBG "
   ]
  },
  {
   "cell_type": "markdown",
   "metadata": {},
   "source": [
    "### Step 1: To predict the serotype of a single strain (20280_5#33), we will use the command: "
   ]
  },
  {
   "cell_type": "code",
   "execution_count": null,
   "metadata": {},
   "outputs": [],
   "source": [
    "# Run srst2\n",
    "!srst2 --input_pe 20280_5#33_1.fastq.gz 20280_5#33_2.fastq.gz --output 20280_5#33_test --log --gene_db GBS-SBG.fasta"
   ]
  },
  {
   "cell_type": "markdown",
   "metadata": {},
   "source": [
    "An explanation of this command is as follows:\n",
    "\n",
    "`srst2` is the tool\n",
    "\n",
    "`--input_pe` specifies the input file are paired end reads which are 20280_5#33_1.fastq.gz 20280_5#33_2.fastq.gz\n",
    "\n",
    "`--output`specifies the output file 20280_5#33_test\n",
    "\n",
    "`--log` switch on logging to file, rather than standard output\n",
    "\n",
    "`--gene_db` specifies the database GBS-SBG.fasta"
   ]
  },
  {
   "cell_type": "markdown",
   "metadata": {},
   "source": [
    "Run the command `ls -lh` to check the contents in the folder."
   ]
  },
  {
   "cell_type": "code",
   "execution_count": null,
   "metadata": {},
   "outputs": [],
   "source": [
    "# List files\n",
    "!ls -lh"
   ]
  },
  {
   "cell_type": "markdown",
   "metadata": {},
   "source": [
    "You will get this output\n",
    "\n",
    "The output file from the above run is “20280_5#33_test__genes__GBS-SBG__results.txt”. \n",
    "\n",
    "So, `cat` \"20280_5#33_test__genes__GBS-SBG__results.txt\" to view the contents of this file "
   ]
  },
  {
   "cell_type": "code",
   "execution_count": null,
   "metadata": {},
   "outputs": [],
   "source": [
    "# Show results\n",
    "!cat 20280_5#33_test__fullgenes__GBS-SBG__results.txt"
   ]
  },
  {
   "cell_type": "markdown",
   "metadata": {},
   "source": [
    "### Step 2: To execute SRST2 on multiple strains, run the command:"
   ]
  },
  {
   "cell_type": "code",
   "execution_count": null,
   "metadata": {},
   "outputs": [],
   "source": [
    "# Correr srst2 en un loop\n",
    "srst2 --input_pe *.fastq.gz --output s.agalactiae --log --gene_db GBS-SBG.fasta"
   ]
  },
  {
   "cell_type": "markdown",
   "metadata": {},
   "source": [
    "`--input_pe .fastq.gz` specifies the input file are multiple compressed fastq.gz files. "
   ]
  },
  {
   "cell_type": "markdown",
   "metadata": {},
   "source": [
    "## BONUS!\n",
    "\n",
    "If you are working with BASH in your computer or in a HPC and you have too many files you can optimize commands, loops are very useful for large datasets.\n",
    "\n",
    "Here's a way to do it. \n",
    "\n",
    "Create a new bash script using nano named `serotype.sh`"
   ]
  },
  {
   "cell_type": "code",
   "execution_count": null,
   "metadata": {},
   "outputs": [],
   "source": [
    "#!/bin/bash\n",
    "#Nombre de archivo: Serotype.sh\n",
    "#Este script para serotipificar S.pneumoniae a partir de fastq.gz recortados\n",
    "\n",
    "function docker_run() { docker run --rm=True -u $(id -u):$(id -g) -v $(pwd):/data \"$@\" ;}\n",
    "wordir=/home/bioinfo-sanger/Group_work/species/s.pneumo/results_fastqc_gz/trimmed_results/results_trimmed_gz\n",
    "cd $wordir\n",
    "\n",
    "for i in $(ls *_1.trimmed.fastq.gz); do\n",
    "\n",
    "NAME=$(basename $i _1.trimmed.fastq.gz)\n",
    "echo \"$NAME\"\n",
    "j=\"${NAME}_1.trimmed.fastq.gz\"\n",
    "echo \"$j\"\n",
    "k=\"${NAME}_2.trimmed.fastq.gz\"\n",
    "echo \"$k\"\n",
    "\n",
    "docker_run staphb/seroba seroba runSerotyping seroba_k71_14082017 ./$j ./$k ${NAME}_serotype_output;\n",
    "\n",
    "done"
   ]
  },
  {
   "cell_type": "markdown",
   "metadata": {},
   "source": [
    "We move all the outputs to a new folder `mv *_serotype_output serotype_results`, then compile all the data within the new directory with the command `seroba summary ./`, you should obtain a tsv file."
   ]
  },
  {
   "cell_type": "markdown",
   "metadata": {},
   "source": [
    "Create a new bash script using nano named `serotype_2.sh`"
   ]
  },
  {
   "cell_type": "code",
   "execution_count": null,
   "metadata": {},
   "outputs": [],
   "source": [
    "#!/bin/bash\n",
    "#Este script para serotipificar múltiples lecturas genómicas de S. agalactaeae\n",
    "\n",
    "function docker_run() { docker run --rm=True -u $(id -u):$(id -g) -v $(pwd):/data \"$@\" ;}\n",
    "wordir=/home/bioinfo-sanger/Data/Group_work/s.pneumo/s.agalactiae/lanes_2.txt/\n",
    "cd $wordir\n",
    "mkdir -p serotyping_output\n",
    "\n",
    "for i in $(ls *_1.fastq.gz); do\n",
    "\n",
    "NAME=$(basename $i _1.fastq.gz)\n",
    "echo \"$NAME\"\n",
    "j=\"${NAME}_1.fastq.gz\"\n",
    "echo \"$j\"\n",
    "k=\"${NAME}_2.fastq.gz\"\n",
    "echo \"$k\"\n",
    "\n",
    "docker_run staphb/srst2 srst2 --input_pe $j $k --output ./serotyping_out/${NAME}_output --log --gene_db analysis/clean_data/GBS-SBG.fasta;\n",
    "\n",
    "done"
   ]
  }
 ],
 "metadata": {
  "language_info": {
   "name": "python"
  }
 },
 "nbformat": 4,
 "nbformat_minor": 2
}
