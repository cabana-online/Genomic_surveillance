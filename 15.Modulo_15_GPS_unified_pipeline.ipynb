{
 "cells": [
  {
   "cell_type": "markdown",
   "metadata": {},
   "source": [
    "# Module 15: Workflows/pipelines GPS and GBS\n",
    "\n",
    "## Overview\n",
    "\n",
    "\n",
    "*GPS Unified Pipeline* es un Nextflow Pipeline para el procesamiento de lecturas brutas de secuenciación de *Streptococcus pneumoniae* (archivos FASTQ) por el Proyecto GPS ([Global Pneumococcal Sequencing Project](https://www.pneumogen.net/gps/)) is available via this link: https://github.com/HarryHung/gps-unified-pipeline.\n",
    "\n",
    "*GBS Typer Pipeline* eis a Nextflow pipeline for characterising serotype, MLST, AMR and surface proteins from Streptococcus agalactiae sequences (FASTQ files) by the [JUNO Project](https://www.gbsgen.net/) and is available [here](https://github.com/sanger-bentley-group/GBS-Typer-sanger-nf). The pipeline takes an input of trimmed and QCed paired-end Streptoccocus agalactiae reads, processes them in parallel through these \"workflows\" and combines the results to create a main report (and MLST and AMR gene allele FASTA files, if applicable).\n",
    "\n",
    "![Intro](./images/gbs.png)\n",
    "\n",
    ">  In this module we will work with the GBS Typer Pipeline."
   ]
  },
  {
   "cell_type": "markdown",
   "metadata": {},
   "source": [
    "## Details of each workflow:\n",
    "\n",
    "1. MLST with SRST2\n",
    "\n",
    "Downloads the MLST database for *Streptococcus agalactiae* and uses SRST2 to do MLST \n",
    "\n",
    "2.  Serotyping with SRST2\n",
    "\n",
    "Downloads the GBS serotype [database](https://github.com/swainechen/GBS-SBG) and uses SRST2 to identify serotypes (in a similar way to MLST)\n",
    "\n",
    "3. Surface protein typing with SRST2\n",
    "\n",
    "Uses a custom-made surface gene [database](https://github.com/sanger-bentley-group/GBS-Typer-sanger-nf/tree/main/db/0.2.1/GBS_Surface_Gene-DB)  and uses SRST2 to identify surface proteins (in a similar way to MLST)\n",
    "\n",
    "4. Resistance typing with SRST2\n",
    "\n",
    "Uses a custom-made GBS antimicrobial resistance gene [database](https://github.com/sanger-bentley-group/GBS-Typer-sanger-nf/tree/main/db/0.2.1/GBS_resTyper_Gene-DB) dand ResFinder and uses SRST2 to identify AMR genes\n",
    "\n",
    "5. Variant detection with freebayes\n",
    "\n",
    "Uses [freebayes](https://github.com/freebayes/freebayes) to generate consensus MLST/antimicrobial resistance alleles (in FASTA format) based on imperfect alignments from SRST2 (Not part of the main report)"
   ]
  },
  {
   "cell_type": "markdown",
   "metadata": {},
   "source": [
    "## Running the pipeline\n",
    "\n",
    ">Running the pipeline requires an internet connection\n",
    "\n",
    ">Currently it supports only paired-end reads\n",
    "\n",
    ">This pipeline can only be executed on a computer as it requires Docker and Nextflow."
   ]
  },
  {
   "cell_type": "markdown",
   "metadata": {},
   "source": [
    "The steps explained in this tutorial are designed to be executed on a computer, as Google Colab cannot be configured for this purpose. **Please DO NOT EXECUTE** the following steps. These are only a guide for you to follow later on your computer if you have a Linux operating system.\n",
    "\n",
    "In the folder **Module 15**, you will find the results obtained from a previous execution on a computer. We will explore what the output files look like."
   ]
  },
  {
   "cell_type": "markdown",
   "metadata": {},
   "source": [
    "### Installing tools"
   ]
  },
  {
   "cell_type": "markdown",
   "metadata": {},
   "source": [
    "#### 1. Install Docker  \n",
    "\n",
    "Depending on your operating system (`Linux`, `Windows`, `Mac`), install Docker by following the detailed instructions available [here](https://docs.docker.com/desktop/?_gl=1*9l1hj6*_gcl_au*MTc0ODc1MTcxLjE3MjY3NzU0NjM.*_ga*ODEwNzA5MjcxLjE3MjAxOTQ5MDc.*_ga_XJWPQMJYHQ*MTczMjcyMTgzMS4xMC4xLjE3MzI3MjI4NDguNjAuMC4w).  "
   ]
  },
  {
   "cell_type": "markdown",
   "metadata": {},
   "source": [
    "#### 2. Install Nextflow"
   ]
  },
  {
   "cell_type": "code",
   "execution_count": null,
   "metadata": {},
   "outputs": [],
   "source": [
    "# Do not execute\n",
    "\n",
    "curl -s https://get.nextflow.io | bash"
   ]
  },
  {
   "cell_type": "code",
   "execution_count": null,
   "metadata": {},
   "outputs": [],
   "source": [
    "# Do not execute\n",
    "# Change the permissions of the nextflow file and make it executable\n",
    "\n",
    "chmod +x nextflow"
   ]
  },
  {
   "cell_type": "code",
   "execution_count": null,
   "metadata": {},
   "outputs": [],
   "source": [
    "# Do not execute\n",
    "# Move Nextflow to a directory that is in the PATH\n",
    "\n",
    "mkdir -p $HOME/.local/bin/\n",
    "mv nextflow $HOME/.local/bin/"
   ]
  },
  {
   "cell_type": "code",
   "execution_count": null,
   "metadata": {},
   "outputs": [],
   "source": [
    "# Do not execute\n",
    "# Confirm that Nextflow is installed\n",
    "\n",
    "nextflow info"
   ]
  },
  {
   "cell_type": "markdown",
   "metadata": {},
   "source": [
    "#### 3. Clone the Pipeline repository"
   ]
  },
  {
   "cell_type": "code",
   "execution_count": null,
   "metadata": {},
   "outputs": [],
   "source": [
    "# Do not execute\n",
    "\n",
    "git clone https://github.com/sanger-pathogens/GBS-Typer-sanger-nf.git"
   ]
  },
  {
   "cell_type": "markdown",
   "metadata": {},
   "source": [
    "### Usage\n",
    "\n",
    "Go to the GBS-Typer-sanger-nf directory:"
   ]
  },
  {
   "cell_type": "code",
   "execution_count": null,
   "metadata": {},
   "outputs": [],
   "source": [
    "# Do not execute\n",
    "\n",
    "cd GBS-Typer-sanger-nf"
   ]
  },
  {
   "cell_type": "markdown",
   "metadata": {},
   "source": [
    "Run with the sample ERR1795461 used in Module 6: Genome Assembly. This will generate reports in a new directory called \"results\"."
   ]
  },
  {
   "cell_type": "code",
   "execution_count": null,
   "metadata": {},
   "outputs": [],
   "source": [
    "# Do not execute\n",
    "\n",
    "nextflow run main.nf --reads '/Module_15/GBS-Typer-sanger-nf/ERR1795461_{1,2}.fastq.gz' --results_dir results"
   ]
  },
  {
   "cell_type": "markdown",
   "metadata": {},
   "source": [
    "### From here, you can run the commands!"
   ]
  },
  {
   "cell_type": "markdown",
   "metadata": {},
   "source": [
    "### Download data"
   ]
  },
  {
   "cell_type": "code",
   "execution_count": null,
   "metadata": {},
   "outputs": [],
   "source": [
    "!wget https://zenodo.org/records/14231070/files/Module_15.tar.gz"
   ]
  },
  {
   "cell_type": "markdown",
   "metadata": {},
   "source": [
    "### Extract the .tar.gz file "
   ]
  },
  {
   "cell_type": "code",
   "execution_count": null,
   "metadata": {},
   "outputs": [],
   "source": [
    "!tar xvf Module_15.tar.gz"
   ]
  },
  {
   "cell_type": "markdown",
   "metadata": {},
   "source": [
    "Go to the results folder, where you can find the files generated after running the GBS-Typer pipeline."
   ]
  },
  {
   "cell_type": "code",
   "execution_count": null,
   "metadata": {},
   "outputs": [],
   "source": [
    "%cd Module_15/GBS-Typer-sanger-nf/results"
   ]
  },
  {
   "cell_type": "markdown",
   "metadata": {},
   "source": [
    "List the files in the folder. You will notice the following files:\n",
    "\n",
    "- drug_cat_alleles_variants.txt\n",
    "- ERR1795461_new_mlst_alleles.fasta\n",
    "- ERR1795461_new_mlst_pileup.txt\n",
    "- gbs_res_variants.txt\n",
    "- gbs_typer_report.txt\n",
    "- new_mlst_alleles.log\n",
    "- resfinder_accessions.txt\n",
    "- serotype_res_incidence.txt\n",
    "- surface_protein_incidence.txt\n",
    "- surface_protein_variants.txt"
   ]
  },
  {
   "cell_type": "markdown",
   "metadata": {},
   "source": [
    "Download the file \"gbs_typer_report.txt\" to your computer and open it using Excel or another spreadsheet tool.\n",
    "\n",
    "This file includes the serotype, MLST type, MLST allelic frequencies, resistance gene incidence, surface protein types, and GBS-specific resistance variants. You can find the description of each column in the report [here](https://docs.google.com/spreadsheets/d/1R5FFvACC3a6KCKkTiluhTj492-4cCe74HcCoklqX-X0/edit?gid=0#gid=0), where the category column is in_silico_analysis.\n",
    "\n",
    "[Here](https://github.com/sanger-bentley-group/GBS-Typer-sanger-nf?tab=readme-ov-file#outputs)  you will find how to interpret the other files that were generated."
   ]
  },
  {
   "cell_type": "markdown",
   "metadata": {},
   "source": [
    "### More information\n",
    "\n",
    "- Running the PBP typing and allele detection workflow is described [here](https://github.com/sanger-bentley-group/GBS-Typer-sanger-nf)\n",
    "\n",
    "- Advanced options on [changing parameters](https://github.com/sanger-bentley-group/GBS-Typer-sanger-nf)\n",
    "\n",
    "- Examples of other Nextflow pipelines hosted by [nf-core](https://nf-co.re/)\n",
    "\n",
    "- Resources for building your own Nextflow pipelines:\n",
    "    - Tutorial: https://training.seqera.io/ \n",
    "\n",
    "    - Reference: https://www.nextflow.io/docs/latest/index.html\n",
    "\n"
   ]
  }
 ],
 "metadata": {
  "kernelspec": {
   "display_name": "Python 3",
   "language": "python",
   "name": "python3"
  },
  "language_info": {
   "name": "python",
   "version": "3.10.12"
  }
 },
 "nbformat": 4,
 "nbformat_minor": 2
}
