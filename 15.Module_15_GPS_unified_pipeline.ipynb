{
 "cells": [
  {
   "cell_type": "markdown",
   "metadata": {},
   "source": [
    "# Module 13: Workflows/pipelines GPS and GBS\n",
    "\n",
    "## Overview\n",
    "\n",
    "\n",
    "*GPS Unified Pipeline* es un Nextflow Pipeline para el procesamiento de lecturas brutas de secuenciación de *Streptococcus pneumoniae* (archivos FASTQ) por el Proyecto GPS ([Global Pneumococcal Sequencing Project](https://www.pneumogen.net/gps/)) is available via this link: https://github.com/HarryHung/gps-unified-pipeline.\n",
    "\n",
    "*GBS Typer Pipeline* eis a Nextflow pipeline for characterising serotype, MLST, AMR and surface proteins from Streptococcus agalactiae sequences (FASTQ files) by the [JUNO Project](https://www.gbsgen.net/) and is available [here](https://github.com/sanger-bentley-group/GBS-Typer-sanger-nf). The pipeline takes an input of trimmed and QCed paired-end Streptoccocus agalactiae reads, processes them in parallel through these \"workflows\" and combines the results to create a main report (and MLST and AMR gene allele FASTA files, if applicable).\n",
    "\n",
    "![Intro](./images/gbs.png)\n",
    "\n",
    ">  In this module we will work with the GBS Typer Pipeline."
   ]
  },
  {
   "cell_type": "markdown",
   "metadata": {},
   "source": [
    "## Details of each workflow:\n",
    "\n",
    "1. MLST with SRST2\n",
    "\n",
    "Downloads the MLST database for *Streptococcus agalactiae* and uses SRST2 to do MLST \n",
    "\n",
    "2.  Serotyping with SRST2\n",
    "\n",
    "Downloads the GBS serotype [database](https://github.com/swainechen/GBS-SBG) and uses SRST2 to identify serotypes (in a similar way to MLST)\n",
    "\n",
    "3. Surface protein typing with SRST2\n",
    "\n",
    "Uses a custom-made surface gene [database](https://github.com/sanger-bentley-group/GBS-Typer-sanger-nf/tree/main/db/0.2.1/GBS_Surface_Gene-DB)  and uses SRST2 to identify surface proteins (in a similar way to MLST)\n",
    "\n",
    "4. Resistance typing with SRST2\n",
    "\n",
    "Uses a custom-made GBS antimicrobial resistance gene [database](https://github.com/sanger-bentley-group/GBS-Typer-sanger-nf/tree/main/db/0.2.1/GBS_resTyper_Gene-DB) dand ResFinder and uses SRST2 to identify AMR genes\n",
    "\n",
    "5. Variant detection with freebayes\n",
    "\n",
    "Uses [freebayes](https://github.com/freebayes/freebayes) to generate consensus MLST/antimicrobial resistance alleles (in FASTA format) based on imperfect alignments from SRST2 (Not part of the main report)"
   ]
  },
  {
   "cell_type": "markdown",
   "metadata": {},
   "source": [
    "## Running the pipeline\n",
    "\n",
    ">Running the pipeline requires an internet connection\n",
    "\n",
    ">Currently it supports only paired-end reads"
   ]
  },
  {
   "cell_type": "markdown",
   "metadata": {},
   "source": [
    "### Installation"
   ]
  },
  {
   "cell_type": "markdown",
   "metadata": {},
   "source": [
    "#### 1. Install condacolab"
   ]
  },
  {
   "cell_type": "code",
   "execution_count": null,
   "metadata": {},
   "outputs": [],
   "source": [
    "!pip install -q condacolab\n",
    "import condacolab\n",
    "condacolab.install()"
   ]
  },
  {
   "cell_type": "code",
   "execution_count": null,
   "metadata": {},
   "outputs": [],
   "source": [
    "!conda config --add channels bioconda"
   ]
  },
  {
   "cell_type": "markdown",
   "metadata": {},
   "source": [
    "#### 2. Install nextflow"
   ]
  },
  {
   "cell_type": "code",
   "execution_count": null,
   "metadata": {},
   "outputs": [],
   "source": [
    "!conda create -n nextflow nextflow\n",
    "!conda activate nextflow"
   ]
  },
  {
   "cell_type": "markdown",
   "metadata": {},
   "source": [
    "#### 3. Downloading the pipeline in the \"Data\" directory"
   ]
  },
  {
   "cell_type": "code",
   "execution_count": null,
   "metadata": {},
   "outputs": [],
   "source": [
    "!git clone https://github.com/sanger-pathogens/GBS-Typer-sanger-nf.git"
   ]
  },
  {
   "cell_type": "markdown",
   "metadata": {},
   "source": [
    "### Usage\n",
    "Go into the GBS-Typer-sanger-nf directory:"
   ]
  },
  {
   "cell_type": "code",
   "execution_count": null,
   "metadata": {},
   "outputs": [],
   "source": [
    "%cd GBS-Typer-sanger-nf"
   ]
  },
  {
   "cell_type": "markdown",
   "metadata": {},
   "source": [
    "Run with two samples 20280_5#40 and 20280_5#47 from \"assignment_s.agalactiae\" in \"Section_tree\". This will generate reports in a new directory called \"my_samples\". "
   ]
  },
  {
   "cell_type": "code",
   "execution_count": null,
   "metadata": {},
   "outputs": [],
   "source": [
    "!nextflow run main.nf --reads '../Section_three/assignment_s.agalactiae/20280_5#4*_{1,2}.fastq.gz' --results_dir my_samples"
   ]
  },
  {
   "cell_type": "markdown",
   "metadata": {},
   "source": [
    "This should take about ~20 minutes depening on your system. When it is successfully completed, you should see:\n"
   ]
  },
  {
   "cell_type": "markdown",
   "metadata": {},
   "source": [
    "Open \"gbs_typer_report.txt\" in the my_samples directory (using Excel or other spreadsheet tool):\n",
    "\n",
    "Each column can be explained from the dictionary here Links to an external site. where the \"category\" column is \"in_silico_analysis\"."
   ]
  },
  {
   "cell_type": "markdown",
   "metadata": {},
   "source": [
    "### More information\n",
    "\n",
    "- Running the PBP typing and allele detection workflow is described [here](https://github.com/sanger-bentley-group/GBS-Typer-sanger-nf)\n",
    "\n",
    "- Advanced options on [changing parameters](https://github.com/sanger-bentley-group/GBS-Typer-sanger-nf)\n",
    "\n",
    "- Examples of other Nextflow pipelines hosted by [nf-core](https://nf-co.re/)\n",
    "\n",
    "- Resources for building your own Nextflow pipelines:\n",
    "    - Tutorial: https://training.seqera.io/ \n",
    "\n",
    "    - Reference: https://www.nextflow.io/docs/latest/index.html"
   ]
  }
 ],
 "metadata": {
  "kernelspec": {
   "display_name": "Python 3",
   "language": "python",
   "name": "python3"
  },
  "language_info": {
   "name": "python",
   "version": "3.10.12"
  }
 },
 "nbformat": 4,
 "nbformat_minor": 2
}
